{
 "cells": [
  {
   "cell_type": "markdown",
   "metadata": {},
   "source": [
    "## TF-IDF computation\n",
    "Tf-idf stands for term frequency-inverse document frequency, and the tf-idf weight is a weight often used in information retrieval and text mining. This weight is a statistical measure used to evaluate how important a word is to a document in a collection or corpus. The importance increases proportionally to the number of times a word appears in the document but is offset by the frequency of the word in the corpus. Variations of the tf-idf weighting scheme are often used by search engines as a central tool in scoring and ranking a document's relevance given a user query."
   ]
  },
  {
   "cell_type": "markdown",
   "metadata": {},
   "source": [
    "### TO compute TF-IDF, we need to know the following:\n",
    "**TF: Term Frequency**, which measures how frequently a term occurs in a document. Since every document is different in length, it is possible that a term would appear much more times in long documents than shorter ones. Thus, the term frequency is often divided by the document length (aka. the total number of terms in the document) as a way of normalization: \n",
    "\n",
    ">$TF(t)$ = (Number of times term $t$ appears in a $document$) / (Total number of terms in the $document$)."
   ]
  },
  {
   "cell_type": "markdown",
   "metadata": {},
   "source": [
    "**IDF: Inverse Document Frequency**, which measures how important a term is. While computing TF, all terms are considered equally important. However it is known that certain terms, such as \"is\", \"of\", and \"that\", may appear a lot of times but have little importance. Thus we need to weigh down the frequent terms while scale up the rare ones, by computing the following: \n",
    "\n",
    ">$IDF(t)$ = $log_e$(Total number of $documents$ / Number of $documents$ with term $t$ in it)."
   ]
  },
  {
   "cell_type": "code",
   "execution_count": 1,
   "metadata": {},
   "outputs": [],
   "source": [
    "import pandas as pd\n",
    "import math\n",
    "from textblob import TextBlob\n",
    "import re # for removing HTML tags"
   ]
  },
  {
   "cell_type": "code",
   "execution_count": 2,
   "metadata": {},
   "outputs": [],
   "source": [
    "word_count_dict = {}"
   ]
  },
  {
   "cell_type": "code",
   "execution_count": 3,
   "metadata": {},
   "outputs": [],
   "source": [
    "# tf(word, blob) computes \"term frequency\" which is the number of times \n",
    "# a word appears in a document blob,normalized by dividing by \n",
    "# the total number of words in blob. \n",
    "# We use TextBlob for breaking up the text into words and getting the word counts.\n",
    "def tf(word, blob):\n",
    "    return blob.words.count(word) / len(blob.words)\n",
    "\n",
    "# n_containing(word, bloblist) returns the number of documents containing word.\n",
    "# A generator expression is passed to the sum() function.\n",
    "def n_containing(word, bloblist):\n",
    "    if word in word_count_dict:\n",
    "        return word_count_dict[word]\n",
    "    word_count_dict[word] = sum(1 for blob in bloblist if word in blob.words)\n",
    "    return word_count_dict[word]\n",
    "\n",
    "# idf(word, bloblist) computes \"inverse document frequency\" which measures how common \n",
    "# a word is among all documents in bloblist. \n",
    "# The more common a word is, the lower its idf. \n",
    "# We take the ratio of the total number of documents \n",
    "# to the number of documents containing word, then take the log of that. \n",
    "# Add 1 to the divisor to prevent division by zero.\n",
    "def idf(word, bloblist):\n",
    "    return math.log(len(bloblist) / (1 + n_containing(word, bloblist)))\n",
    "\n",
    "# tfidf(word, blob, bloblist) computes the TF-IDF score. \n",
    "# It is simply the product of tf and idf.\n",
    "def tfidf(word, blob, bloblist):\n",
    "    return tf(word, blob) * idf(word, bloblist)"
   ]
  },
  {
   "cell_type": "code",
   "execution_count": 4,
   "metadata": {},
   "outputs": [],
   "source": [
    "questions = pd.read_csv('../input/Questions_Filtered.csv', encoding='latin1')\n",
    "real_questions = pd.read_csv('../input/Questions.csv', encoding='latin1')\n",
    "#answers = pd.read_csv('../input/Answers.csv', encoding='latin1')\n",
    "tags = pd.read_csv('../input/Tags_Filtered.csv', encoding='latin1')"
   ]
  },
  {
   "cell_type": "code",
   "execution_count": 5,
   "metadata": {},
   "outputs": [],
   "source": [
    "def tag_questions_generator(question_table, id_table, included_tags):\n",
    "    tag_question_list = []\n",
    "    tag_id_list = []\n",
    "    tag_questions = question_table[question_table['Id'].isin(tags[tags['Tag'].isin(included_tags)]['Id'])]\n",
    "    for index, row in tag_questions.iterrows():\n",
    "        tag_question_list.append(TextBlob(str(row['Title'])+\" \"+str(row['Body'])))\n",
    "        tag_id_list.append(row['Id'])\n",
    "    return tag_question_list,tag_id_list"
   ]
  },
  {
   "cell_type": "code",
   "execution_count": 6,
   "metadata": {},
   "outputs": [],
   "source": [
    "def random_questions_generator(question_table, id_table, excluded_tags, sample_size):\n",
    "    random_question_list = []\n",
    "    random_id_list = []\n",
    "    random_questions = question_table[~question_table['Id'].isin(tags[tags['Tag'].isin(excluded_tags)]['Id'])].sample(sample_size)\n",
    "    for index, row in random_questions.iterrows():\n",
    "        random_question_list.append(TextBlob(str(row['Title'])+\" \"+str(row['Body'])))\n",
    "        random_id_list.append(row['Id'])\n",
    "    return random_question_list,random_id_list"
   ]
  },
  {
   "cell_type": "code",
   "execution_count": 7,
   "metadata": {},
   "outputs": [],
   "source": [
    "def all_tags(question_id): \n",
    "    return tags[tags['Id'].isin(questions[questions['Id'] == question_id]['Id'])]['Tag'].tolist()"
   ]
  },
  {
   "cell_type": "code",
   "execution_count": 8,
   "metadata": {},
   "outputs": [],
   "source": [
    "dummy = ['angularjs']\n",
    "dummy_questions, dummy_ids = tag_questions_generator(questions,tags,dummy);"
   ]
  },
  {
   "cell_type": "code",
   "execution_count": 9,
   "metadata": {},
   "outputs": [
    {
     "name": "stdout",
     "output_type": "stream",
     "text": [
      "['javascript', 'angularjs']\n",
      "['javascript', 'angularjs']\n",
      "['angularjs']\n",
      "['javascript', 'angularjs']\n",
      "['javascript', 'angularjs']\n",
      "['javascript', 'actionscript-3', 'angularjs']\n",
      "['javascript', 'ruby-on-rails', 'angularjs']\n",
      "['symfony2', 'angularjs']\n",
      "['angularjs']\n",
      "['angularjs', 'filter', 'module']\n"
     ]
    }
   ],
   "source": [
    "for index in range(10):\n",
    "    print(all_tags(dummy_ids[index]))"
   ]
  },
  {
   "cell_type": "code",
   "execution_count": 32,
   "metadata": {},
   "outputs": [],
   "source": [
    "test = ['angularjs']\n",
    "test_questions, test_ids = tag_questions_generator(questions,tags,test)\n",
    "random_questions, random_ids = random_questions_generator(questions,tags,test, 100_000)\n",
    "question_list = test_questions + random_questions\n",
    "id_list = test_ids + random_ids"
   ]
  },
  {
   "cell_type": "code",
   "execution_count": 33,
   "metadata": {},
   "outputs": [
    {
     "name": "stdout",
     "output_type": "stream",
     "text": [
      "Words of interest in Question ID 6082520\n",
      "\tWord: form, TF-IDF: 0.14465\n",
      "\tWord: submit, TF-IDF: 0.14339\n",
      "\tWord: cookbook, TF-IDF: 0.12854\n",
      "\tWord: server, TF-IDF: 0.11163\n",
      "\tWord: webpac2, TF-IDF: 0.09032\n",
      "Words of interest in Question ID 7354870\n",
      "\tWord: oneval, TF-IDF: 0.56507\n",
      "\tWord: serializing, TF-IDF: 0.18732\n",
      "\tWord: changes, TF-IDF: 0.17508\n",
      "\tWord: serialized, TF-IDF: 0.1673\n",
      "\tWord: detecting, TF-IDF: 0.16497\n",
      "Words of interest in Question ID 9629000\n",
      "\tWord: cookiestore, TF-IDF: 0.73247\n",
      "\tWord: userid, TF-IDF: 0.47708\n",
      "\tWord: fblogin, TF-IDF: 0.30353\n",
      "\tWord: validateuser, TF-IDF: 0.27666\n",
      "\tWord: configurations, TF-IDF: 0.19558\n",
      "Words of interest in Question ID 9755780\n",
      "\tWord: invalidwidgets, TF-IDF: 0.23697\n",
      "\tWord: questionctrl, TF-IDF: 0.16654\n",
      "\tWord: word, TF-IDF: 0.11843\n",
      "\tWord: ans, TF-IDF: 0.11266\n",
      "\tWord: column, TF-IDF: 0.10169\n",
      "Words of interest in Question ID 9981090\n",
      "\tWord: orderitemservice, TF-IDF: 0.35545\n",
      "\tWord: resource, TF-IDF: 0.31332\n",
      "\tWord: orderservice, TF-IDF: 0.30046\n",
      "\tWord: theservice, TF-IDF: 0.16295\n",
      "\tWord: orderitems, TF-IDF: 0.14418\n",
      "Words of interest in Question ID 10490570\n",
      "\tWord: service, TF-IDF: 0.2169\n",
      "\tWord: legacy, TF-IDF: 0.14938\n",
      "\tWord: dispatch, TF-IDF: 0.14646\n",
      "\tWord: flex, TF-IDF: 0.13898\n",
      "\tWord: externalinterface, TF-IDF: 0.11155\n",
      "Words of interest in Question ID 10659890\n",
      "\tWord: contactlistctrl, TF-IDF: 0.2166\n",
      "\tWord: contacts, TF-IDF: 0.19908\n",
      "\tWord: assets, TF-IDF: 0.15326\n",
      "\tWord: rails, TF-IDF: 0.10327\n",
      "\tWord: compress, TF-IDF: 0.0984\n",
      "Words of interest in Question ID 10834390\n",
      "\tWord: sf2, TF-IDF: 0.51312\n",
      "\tWord: twig, TF-IDF: 0.23497\n",
      "\tWord: angularjs, TF-IDF: 0.17777\n",
      "\tWord: templates, TF-IDF: 0.15269\n",
      "\tWord: curly, TF-IDF: 0.12844\n",
      "Words of interest in Question ID 10857110\n",
      "\tWord: expense, TF-IDF: 0.43081\n",
      "\tWord: expensesctrl, TF-IDF: 0.24217\n",
      "\tWord: expensesform, TF-IDF: 0.24217\n",
      "\tWord: ng, TF-IDF: 0.13757\n",
      "\tWord: tchnh, TF-IDF: 0.12109\n",
      "Words of interest in Question ID 10897900\n",
      "\tWord: fooappfilters, TF-IDF: 0.67463\n",
      "\tWord: scenariodate, TF-IDF: 0.22488\n",
      "\tWord: ograppfilters, TF-IDF: 0.22488\n",
      "\tWord: fooappfiltersprovider, TF-IDF: 0.22488\n",
      "\tWord: filter, TF-IDF: 0.21295\n"
     ]
    }
   ],
   "source": [
    "tfidf_dict={}\n",
    "qID_dict={}\n",
    "word_count_dict = {}\n",
    "for index, question_text in enumerate(question_list):\n",
    "    # For each word in this specific question_text, we will send the word and the question_text\n",
    "    # to find out the tf (Term frequeency will check the frequency of the word in )\n",
    "    #if index > len(test_ids):\n",
    "    #    break\n",
    "    if index < 10:\n",
    "        print('Words of interest in Question ID {}'.format(id_list[index]))\n",
    "    elif index == 10:\n",
    "        break\n",
    "    scores = {word: tfidf(word, question_text, question_list) for word in question_text.words}\n",
    "    sorted_words = sorted(scores.items(), key=lambda x: x[1], reverse = True)\n",
    "    for word, score in sorted_words[:5]:\n",
    "        if index < 10:\n",
    "                print(\"\\tWord: {}, TF-IDF: {}\".format(word, round(score, 5)))\n",
    "         # word dict    \n",
    "        if word in tfidf_dict:\n",
    "            tfidf_dict[word].append([id_list[index],round(score, 5)])\n",
    "        else:\n",
    "            tfidf_dict[word] = [[id_list[index],round(score, 5)]]\n",
    "\n",
    "        # qID dict\n",
    "        if id_list[index] in qID_dict:\n",
    "            qID_dict[id_list[index]].append(word)\n",
    "        else:\n",
    "            lst=[]\n",
    "            lst.append(word)\n",
    "            qID_dict[id_list[index]]=lst"
   ]
  },
  {
   "cell_type": "code",
   "execution_count": 22,
   "metadata": {},
   "outputs": [],
   "source": [
    "# will strip all text according to this regular expression.\n",
    "pd.options.display.max_colwidth = 2000\n",
    "TAG_RE = re.compile(r'<[^>]+>')\n",
    "def strip_tags(text):\n",
    "    return TAG_RE.sub('', text)"
   ]
  },
  {
   "cell_type": "code",
   "execution_count": 26,
   "metadata": {},
   "outputs": [
    {
     "data": {
      "text/plain": [
       "TextBlob(\"I am new to Angular and would like to know how to actually submit a form to the server once the data is filled in.\\n\\nThe cookbook form examples on angularjs.org only save the state on the client. How do I submit to the server?\\n\\nAlternatively, how do I use jQuery's form.submit() on the form in the ng:click=\"save()\" function?\\n\\nEdit - Found 2 ways to do this ( I also removed the html markup i pasted before - just refer to the advanced form cookbook example for the source)\\n\\n\\nhttp://webpac2.rot13.org:3000/conference/Work (by Dobrica Pavlinusic) to go the angular way using a resource to send  the data to the server in json format. I had issues with that on the server side - Angular was sending it fine but grails was mangling it (according to firebug and request content-length). I need to look into this more. How do i change the content-type in angular for a resource method like $save() ?\\nPut a form in and use a submit button. Since I am not doing a single page web app, I used this method. Most validations were on the client and a few more on the server which were sufficient for me. \\n\\n\\nJust putting this here so that someone else can use this for possible solutions as well as to get the reaction of the javascript/angular experts on the best approach.\\n\\nThanks \\nRajesh\\n\")"
      ]
     },
     "execution_count": 26,
     "metadata": {},
     "output_type": "execute_result"
    }
   ],
   "source": [
    "sample_question = TextBlob(strip_tags(real_questions[real_questions['Id'] == 6082520]['Body'].to_string(index=False)))\n",
    "sample_question"
   ]
  },
  {
   "cell_type": "code",
   "execution_count": 111,
   "metadata": {},
   "outputs": [
    {
     "data": {
      "text/plain": [
       "['cookbook', 'submit', 'form', 'server', 'webpac2']"
      ]
     },
     "execution_count": 111,
     "metadata": {},
     "output_type": "execute_result"
    }
   ],
   "source": [
    "qID_dict[6082520]"
   ]
  },
  {
   "cell_type": "code",
   "execution_count": 31,
   "metadata": {},
   "outputs": [
    {
     "name": "stdout",
     "output_type": "stream",
     "text": [
      "2\n",
      "3\n",
      "5\n",
      "5\n"
     ]
    }
   ],
   "source": [
    "print(sample_question.words.count('cookbook'))\n",
    "print(sample_question.words.count('submit'))\n",
    "print(sample_question.words.count('form'))\n",
    "print(sample_question.words.count('server'))"
   ]
  }
 ],
 "metadata": {
  "kernelspec": {
   "display_name": "Python 3",
   "language": "python",
   "name": "python3"
  },
  "language_info": {
   "codemirror_mode": {
    "name": "ipython",
    "version": 3
   },
   "file_extension": ".py",
   "mimetype": "text/x-python",
   "name": "python",
   "nbconvert_exporter": "python",
   "pygments_lexer": "ipython3",
   "version": "3.6.4"
  }
 },
 "nbformat": 4,
 "nbformat_minor": 2
}
