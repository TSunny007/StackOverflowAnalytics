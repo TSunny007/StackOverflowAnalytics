{
 "cells": [
  {
   "cell_type": "code",
   "execution_count": 1,
   "metadata": {},
   "outputs": [],
   "source": [
    "import numpy as np # linear algebra\n",
    "import pandas as pd # data processing, CSV file I/O (e.g. pd.read_csv)\n",
    "import math\n",
    "from matplotlib import pyplot as plt\n",
    "from sklearn.cluster import KMeans\n",
    "import scipy"
   ]
  },
  {
   "cell_type": "code",
   "execution_count": 2,
   "metadata": {
    "scrolled": true
   },
   "outputs": [],
   "source": [
    "score1 = pd.read_csv(\"../profiles/users_questions_scores.csv\", encoding='latin1')\n",
    "score=score1.as_matrix(columns=score1.columns[1:])"
   ]
  },
  {
   "cell_type": "code",
   "execution_count": 3,
   "metadata": {},
   "outputs": [],
   "source": [
    "question_count = pd.read_csv(\"../profiles/users_question_count.csv\", encoding='latin1')\n",
    "count=question_count.as_matrix(columns=question_count.columns[1:])"
   ]
  },
  {
   "cell_type": "code",
   "execution_count": 6,
   "metadata": {},
   "outputs": [
    {
     "data": {
      "text/plain": [
       "'\\n#REMOVING THE OUTLIER\\nb=27387\\nindex1=np.where(count_array==b)[0][0]\\nc=88574\\nindex2=np.where(sum_array==c)[0][0]\\n\\noutlier_free_count=np.delete(count_array,[index1,index2])\\n\\noutlier_free_sum=np.delete(sum_array,[index1,index2])\\nprint(len(outlier_free_count))\\nprint(len(outlier_free_sum))\\n#sorted_list=-np.sort(-outlier_free_sum)\\n#print(sorted_list)\\n\\n#print(sorted_list[-1])\\n#sorted_count=-np.sort(-outlier_free_count)\\n#print(sorted_count)\\n'"
      ]
     },
     "execution_count": 6,
     "metadata": {},
     "output_type": "execute_result"
    }
   ],
   "source": [
    "sum_array=score.sum(axis=1)\n",
    "count_array=count.sum(axis=1)\n",
    "\n",
    "'''\n",
    "#REMOVING THE OUTLIER\n",
    "b=27387\n",
    "index1=np.where(count_array==b)[0][0]\n",
    "c=88574\n",
    "index2=np.where(sum_array==c)[0][0]\n",
    "\n",
    "outlier_free_count=np.delete(count_array,[index1,index2])\n",
    "\n",
    "outlier_free_sum=np.delete(sum_array,[index1,index2])\n",
    "print(len(outlier_free_count))\n",
    "print(len(outlier_free_sum))\n",
    "#sorted_list=-np.sort(-outlier_free_sum)\n",
    "#print(sorted_list)\n",
    "\n",
    "#print(sorted_list[-1])\n",
    "#sorted_count=-np.sort(-outlier_free_count)\n",
    "#print(sorted_count)\n",
    "'''"
   ]
  },
  {
   "cell_type": "code",
   "execution_count": 7,
   "metadata": {
    "collapsed": true
   },
   "outputs": [],
   "source": [
    "\n",
    "temp=[]\n",
    "list_of_usersum=[]\n",
    "for i in range(0,len(count_array)):\n",
    "    temp.append(count_array[i])\n",
    "    temp.append(sum_array[i])\n",
    "    list_of_usersum.append(temp)\n",
    "    temp=[]"
   ]
  },
  {
   "cell_type": "code",
   "execution_count": 8,
   "metadata": {},
   "outputs": [
    {
     "name": "stdout",
     "output_type": "stream",
     "text": [
      "[[  26.  137.]\n",
      " [   8.  201.]\n",
      " [  50.  386.]\n",
      " ..., \n",
      " [   2.    2.]\n",
      " [   0.    0.]\n",
      " [   0.    0.]]\n"
     ]
    }
   ],
   "source": [
    "user_profile_array=np.array(list_of_usersum)\n",
    "print(user_profile_array)\n",
    "#print(np.any(np.isnan(user_sum_array)))\n",
    "#print(-np.sort(-user_sum_array))\n",
    "#print(np.max(user_sum_array,axis=0))"
   ]
  },
  {
   "cell_type": "code",
   "execution_count": 9,
   "metadata": {
    "collapsed": true
   },
   "outputs": [],
   "source": [
    "def gonzalez(upInputMatrix,k):\n",
    "    #print(k)\n",
    "    #print(type(upInputMatrix))\n",
    "    c=[upInputMatrix[0]]\n",
    "    \n",
    "    phi=[0]*len(upInputMatrix)\n",
    "    print(\"Hi I am length\",len(upInputMatrix))\n",
    "    for i in range(1,k):\n",
    "      \n",
    "        m=0\n",
    "        c.insert(i,upInputMatrix)\n",
    "        \n",
    "        for j in range(1,len(upInputMatrix)):\n",
    "            \n",
    "            if distance(upInputMatrix[j],c[phi[j]])>m:\n",
    "                m=distance(upInputMatrix[j],c[phi[j]])\n",
    "                c[i]=upInputMatrix[j]\n",
    "\n",
    "        \n",
    "        for j in range(1,len(upInputMatrix)):\n",
    "            #print(\"Hi i am here\")\n",
    "            if distance(upInputMatrix[j],c[phi[j]])>distance(upInputMatrix[j],c[i]):\n",
    "                phi[j]=i\n",
    "                \n",
    "    return c,phi\n",
    "\n",
    "\n",
    "def distance(pt1,pt2):\n",
    "    return math.sqrt(math.pow(pt1[0]-pt2[0],2)+math.pow(pt1[1]-pt2[1],2))"
   ]
  },
  {
   "cell_type": "code",
   "execution_count": 11,
   "metadata": {},
   "outputs": [
    {
     "name": "stdout",
     "output_type": "stream",
     "text": [
      "Hi I am length 630910\n"
     ]
    },
    {
     "data": {
      "image/png": "[encoded data removed]",
      "text/plain": [
       "<matplotlib.figure.Figure at 0x1d7883fc940>"
      ]
     },
     "metadata": {},
     "output_type": "display_data"
    }
   ],
   "source": [
    "c1,phi=gonzalez(user_profile_array,3)\n",
    "plt.xlabel(\"No. of Questions asked\")\n",
    "plt.ylabel(\"Score Obtained\")\n",
    "plt.title(\"Gonzalez Implementation\")\n",
    "plt.scatter(user_profile_array[:,0],user_profile_array[:,1],c=phi)\n",
    "plt.show()   "
   ]
  },
  {
   "cell_type": "code",
   "execution_count": 12,
   "metadata": {
    "collapsed": true
   },
   "outputs": [],
   "source": [
    "def k_means(inputMatrix,k):\n",
    "    \n",
    "    print(np.any(np.isnan(inputMatrix)))\n",
    "    print(np.any(np.isfinite(inputMatrix)))\n",
    "\n",
    "    \n",
    "    kmeans = KMeans(n_clusters=k)\n",
    "    kmeans.fit(inputMatrix)\n",
    "    y_kmeans=kmeans.predict(inputMatrix)\n",
    "    \n",
    "    plt.xlabel(\"No. of Questions asked\")\n",
    "    plt.ylabel(\"Score Obtained\")\n",
    "\n",
    "    plt.title(\"k-means Implementation\")\n",
    "\n",
    "    plt.scatter(inputMatrix[:, 0], inputMatrix[:, 1], c=y_kmeans, s=50, cmap='viridis')\n",
    "    centers = kmeans.cluster_centers_\n",
    "    plt.scatter(centers[:,0],centers[:,1],c='black',s=200,alpha=0.5)\n",
    "    plt.show()"
   ]
  },
  {
   "cell_type": "code",
   "execution_count": 13,
   "metadata": {},
   "outputs": [
    {
     "name": "stdout",
     "output_type": "stream",
     "text": [
      "False\n",
      "True\n"
     ]
    },
    {
     "data": {
      "image/png": "[encoded data removed]",
      "text/plain": [
       "<matplotlib.figure.Figure at 0x1d789fe40f0>"
      ]
     },
     "metadata": {},
     "output_type": "display_data"
    }
   ],
   "source": [
    "k_means(user_profile_array,3)"
   ]
  },
  {
   "cell_type": "code",
   "execution_count": null,
   "metadata": {
    "collapsed": true
   },
   "outputs": [],
   "source": []
  }
 ],
 "metadata": {
  "kernelspec": {
   "display_name": "Python 3",
   "language": "python",
   "name": "python3"
  },
  "language_info": {
   "codemirror_mode": {
    "name": "ipython",
    "version": 3
   },
   "file_extension": ".py",
   "mimetype": "text/x-python",
   "name": "python",
   "nbconvert_exporter": "python",
   "pygments_lexer": "ipython3",
   "version": "3.6.4"
  }
 },
 "nbformat": 4,
 "nbformat_minor": 2
}
