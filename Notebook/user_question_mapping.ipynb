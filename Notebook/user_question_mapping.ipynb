{
 "cells": [
  {
   "cell_type": "code",
   "execution_count": null,
   "metadata": {},
   "outputs": [],
   "source": [
    "import math\n",
    "import numpy as np # linear algebra\n",
    "import pandas as pd # data processing, CSV file I/O (e.g. pd.read_csv)"
   ]
  },
  {
   "cell_type": "code",
   "execution_count": null,
   "metadata": {},
   "outputs": [],
   "source": [
    "tags = pd.read_csv(\"../input/Tags_Filtered.csv\", encoding='latin1')\n",
    "#answers=pd.read_csv(\"Answers_Filtered.csv\", encoding=\"latin1\")\n",
    "questions = pd.read_csv(\"../input/Questions_Filtered.csv\",encoding=\"latin1\")"
   ]
  },
  {
   "cell_type": "markdown",
   "metadata": {},
   "source": [
    "## Evaluating a user based on their Questions"
   ]
  },
  {
   "cell_type": "code",
   "execution_count": null,
   "metadata": {},
   "outputs": [],
   "source": [
    "users = pd.DataFrame(np.zeros((len(questions['OwnerUserId'].unique()), len(tags['Tag'].unique()))),index=questions['OwnerUserId'].unique(), columns=tags['Tag'].unique())\n",
    "user_questions = pd.DataFrame(np.zeros((len(questions['OwnerUserId'].unique()), len(tags['Tag'].unique()))),index=questions['OwnerUserId'].unique(), columns=tags['Tag'].unique())\n",
    "users.head(2)"
   ]
  },
  {
   "cell_type": "code",
   "execution_count": null,
   "metadata": {},
   "outputs": [],
   "source": [
    "questions.head(1)\n",
    "questions.head(1).set_index('Id').join(tags.set_index('Id'))"
   ]
  },
  {
   "cell_type": "code",
   "execution_count": null,
   "metadata": {},
   "outputs": [],
   "source": [
    "for index, row in questions.iterrows():\n",
    "    if index % 124_000 == 0:\n",
    "        print(index / 124_000, '%')\n",
    "    if row['Score'] < 0:\n",
    "        continue\n",
    "    temp_rows=tags[tags['Id'] == row['Id']]\n",
    "    for index1,rows1 in temp_rows.iterrows():\n",
    "        user_questions.at[row['OwnerUserId'],rows1['Tag']] += 1\n",
    "        users.at[row['OwnerUserId'],rows1['Tag']] += max(row['Score'],1)\n",
    "users.head(3)"
   ]
  },
  {
   "cell_type": "code",
   "execution_count": null,
   "metadata": {},
   "outputs": [],
   "source": [
    "user_questions.div(user_questions.sum(axis=1), axis=0)"
   ]
  },
  {
   "cell_type": "code",
   "execution_count": null,
   "metadata": {},
   "outputs": [],
   "source": [
    "user_infromation = user_questions.multiply(users)"
   ]
  },
  {
   "cell_type": "code",
   "execution_count": null,
   "metadata": {},
   "outputs": [],
   "source": [
    "user_infromation.to_csv(\"../input/Questions_Filtered.csv\",encoding=\"latin1\")"
   ]
  }
 ],
 "metadata": {
  "kernelspec": {
   "display_name": "Python 3",
   "language": "python",
   "name": "python3"
  },
  "language_info": {
   "codemirror_mode": {
    "name": "ipython",
    "version": 3
   },
   "file_extension": ".py",
   "mimetype": "text/x-python",
   "name": "python",
   "nbconvert_exporter": "python",
   "pygments_lexer": "ipython3",
   "version": "3.6.4"
  }
 },
 "nbformat": 4,
 "nbformat_minor": 2
}
