{
 "cells": [
  {
   "cell_type": "markdown",
   "metadata": {},
   "source": [
    "# Mapping Answers into a user Profile"
   ]
  },
  {
   "cell_type": "code",
   "execution_count": 135,
   "metadata": {},
   "outputs": [],
   "source": [
    "import math\n",
    "import numpy as np # linear algebra\n",
    "import pandas as pd # data processing, CSV file I/O (e.g. pd.read_csv)"
   ]
  },
  {
   "cell_type": "code",
   "execution_count": 136,
   "metadata": {},
   "outputs": [],
   "source": [
    "tags = pd.read_csv(\"../input/Tags_Filtered.csv\", encoding='latin1')\n",
    "answers = pd.read_csv(\"../input/Answers_Filtered.csv\",encoding=\"latin1\")"
   ]
  },
  {
   "cell_type": "code",
   "execution_count": 137,
   "metadata": {},
   "outputs": [],
   "source": [
    "answers = answers.set_index('Id');\n",
    "tags = tags.set_index('Id');"
   ]
  },
  {
   "cell_type": "code",
   "execution_count": 138,
   "metadata": {},
   "outputs": [
    {
     "data": {
      "text/html": [
       "<div>\n",
       "<style scoped>\n",
       "    .dataframe tbody tr th:only-of-type {\n",
       "        vertical-align: middle;\n",
       "    }\n",
       "\n",
       "    .dataframe tbody tr th {\n",
       "        vertical-align: top;\n",
       "    }\n",
       "\n",
       "    .dataframe thead th {\n",
       "        text-align: right;\n",
       "    }\n",
       "</style>\n",
       "<table border=\"1\" class=\"dataframe\">\n",
       "  <thead>\n",
       "    <tr style=\"text-align: right;\">\n",
       "      <th></th>\n",
       "      <th>Tag</th>\n",
       "    </tr>\n",
       "    <tr>\n",
       "      <th>Id</th>\n",
       "      <th></th>\n",
       "    </tr>\n",
       "  </thead>\n",
       "  <tbody>\n",
       "    <tr>\n",
       "      <th>28836810</th>\n",
       "      <td>disabled-input</td>\n",
       "    </tr>\n",
       "    <tr>\n",
       "      <th>22148740</th>\n",
       "      <td>css</td>\n",
       "    </tr>\n",
       "    <tr>\n",
       "      <th>11414840</th>\n",
       "      <td>asp.net-mvc-3</td>\n",
       "    </tr>\n",
       "  </tbody>\n",
       "</table>\n",
       "</div>"
      ],
      "text/plain": [
       "                     Tag\n",
       "Id                      \n",
       "28836810  disabled-input\n",
       "22148740             css\n",
       "11414840   asp.net-mvc-3"
      ]
     },
     "execution_count": 138,
     "metadata": {},
     "output_type": "execute_result"
    }
   ],
   "source": [
    "tags.sample(3)"
   ]
  },
  {
   "cell_type": "code",
   "execution_count": 139,
   "metadata": {},
   "outputs": [
    {
     "data": {
      "text/html": [
       "<div>\n",
       "<style scoped>\n",
       "    .dataframe tbody tr th:only-of-type {\n",
       "        vertical-align: middle;\n",
       "    }\n",
       "\n",
       "    .dataframe tbody tr th {\n",
       "        vertical-align: top;\n",
       "    }\n",
       "\n",
       "    .dataframe thead th {\n",
       "        text-align: right;\n",
       "    }\n",
       "</style>\n",
       "<table border=\"1\" class=\"dataframe\">\n",
       "  <thead>\n",
       "    <tr style=\"text-align: right;\">\n",
       "      <th></th>\n",
       "      <th>OwnerUserId</th>\n",
       "      <th>CreationDate</th>\n",
       "      <th>ParentId</th>\n",
       "      <th>Score</th>\n",
       "      <th>Body</th>\n",
       "    </tr>\n",
       "    <tr>\n",
       "      <th>Id</th>\n",
       "      <th></th>\n",
       "      <th></th>\n",
       "      <th></th>\n",
       "      <th></th>\n",
       "      <th></th>\n",
       "    </tr>\n",
       "  </thead>\n",
       "  <tbody>\n",
       "    <tr>\n",
       "      <th>12402306</th>\n",
       "      <td>1464455.0</td>\n",
       "      <td>2012-09-13T08:29:52Z</td>\n",
       "      <td>12401930</td>\n",
       "      <td>0</td>\n",
       "      <td>code quite similar retrieval objects ldap need...</td>\n",
       "    </tr>\n",
       "    <tr>\n",
       "      <th>12084894</th>\n",
       "      <td>682515.0</td>\n",
       "      <td>2012-08-23T04:47:58Z</td>\n",
       "      <td>6165590</td>\n",
       "      <td>15</td>\n",
       "      <td>case people problem chrome later manifest must...</td>\n",
       "    </tr>\n",
       "    <tr>\n",
       "      <th>35409154</th>\n",
       "      <td>821110.0</td>\n",
       "      <td>2016-02-15T12:15:56Z</td>\n",
       "      <td>35408860</td>\n",
       "      <td>1</td>\n",
       "      <td>third parameter body used post requests header...</td>\n",
       "    </tr>\n",
       "  </tbody>\n",
       "</table>\n",
       "</div>"
      ],
      "text/plain": [
       "          OwnerUserId          CreationDate  ParentId  Score  \\\n",
       "Id                                                             \n",
       "12402306    1464455.0  2012-09-13T08:29:52Z  12401930      0   \n",
       "12084894     682515.0  2012-08-23T04:47:58Z   6165590     15   \n",
       "35409154     821110.0  2016-02-15T12:15:56Z  35408860      1   \n",
       "\n",
       "                                                       Body  \n",
       "Id                                                           \n",
       "12402306  code quite similar retrieval objects ldap need...  \n",
       "12084894  case people problem chrome later manifest must...  \n",
       "35409154  third parameter body used post requests header...  "
      ]
     },
     "execution_count": 139,
     "metadata": {},
     "output_type": "execute_result"
    }
   ],
   "source": [
    "answers.sample(3)"
   ]
  },
  {
   "cell_type": "markdown",
   "metadata": {},
   "source": [
    "## Evaluating a user based on their Questions\n",
    "\n",
    "In this Section, we use the data from questions and tags datasets to create two matrecies of users. The two matrices are:\n",
    "* A matrix containing total Scoring statistics\n",
    "* A matrix keeping track of total Questions asked by user per category"
   ]
  },
  {
   "cell_type": "code",
   "execution_count": 140,
   "metadata": {},
   "outputs": [],
   "source": [
    "rows = answers['OwnerUserId'].unique()\n",
    "dimensions = tags[tags.index.isin(answers['ParentId'])]['Tag'].unique()"
   ]
  },
  {
   "cell_type": "code",
   "execution_count": 176,
   "metadata": {},
   "outputs": [],
   "source": [
    "user_scores = pd.DataFrame(np.zeros((len(rows), len(dimensions))),index=rows, columns=dimensions)\n",
    "user_answers = pd.DataFrame(np.zeros((len(rows), len(dimensions))),index=rows, columns=dimensions)"
   ]
  },
  {
   "cell_type": "code",
   "execution_count": 154,
   "metadata": {},
   "outputs": [
    {
     "data": {
      "text/html": [
       "<div>\n",
       "<style scoped>\n",
       "    .dataframe tbody tr th:only-of-type {\n",
       "        vertical-align: middle;\n",
       "    }\n",
       "\n",
       "    .dataframe tbody tr th {\n",
       "        vertical-align: top;\n",
       "    }\n",
       "\n",
       "    .dataframe thead th {\n",
       "        text-align: right;\n",
       "    }\n",
       "</style>\n",
       "<table border=\"1\" class=\"dataframe\">\n",
       "  <thead>\n",
       "    <tr style=\"text-align: right;\">\n",
       "      <th></th>\n",
       "      <th>OwnerUserId</th>\n",
       "      <th>CreationDate</th>\n",
       "      <th>Score</th>\n",
       "      <th>Body</th>\n",
       "      <th>Tag</th>\n",
       "    </tr>\n",
       "  </thead>\n",
       "  <tbody>\n",
       "    <tr>\n",
       "      <th>90</th>\n",
       "      <td>61.0</td>\n",
       "      <td>2008-08-01T14:45:37Z</td>\n",
       "      <td>13</td>\n",
       "      <td>version control subversion good resource sourc...</td>\n",
       "      <td>svn</td>\n",
       "    </tr>\n",
       "    <tr>\n",
       "      <th>90</th>\n",
       "      <td>61.0</td>\n",
       "      <td>2008-08-01T14:45:37Z</td>\n",
       "      <td>13</td>\n",
       "      <td>version control subversion good resource sourc...</td>\n",
       "      <td>tortoisesvn</td>\n",
       "    </tr>\n",
       "    <tr>\n",
       "      <th>90</th>\n",
       "      <td>61.0</td>\n",
       "      <td>2008-08-01T14:45:37Z</td>\n",
       "      <td>13</td>\n",
       "      <td>version control subversion good resource sourc...</td>\n",
       "      <td>branch</td>\n",
       "    </tr>\n",
       "    <tr>\n",
       "      <th>90</th>\n",
       "      <td>61.0</td>\n",
       "      <td>2008-08-01T14:45:37Z</td>\n",
       "      <td>13</td>\n",
       "      <td>version control subversion good resource sourc...</td>\n",
       "      <td>branching-and-merging</td>\n",
       "    </tr>\n",
       "    <tr>\n",
       "      <th>24270</th>\n",
       "      <td>61.0</td>\n",
       "      <td>2008-08-29T01:30:38Z</td>\n",
       "      <td>1</td>\n",
       "      <td>know find oop useful pretty much solely syntac...</td>\n",
       "      <td>language-agnostic</td>\n",
       "    </tr>\n",
       "    <tr>\n",
       "      <th>24270</th>\n",
       "      <td>61.0</td>\n",
       "      <td>2008-08-29T01:30:38Z</td>\n",
       "      <td>1</td>\n",
       "      <td>know find oop useful pretty much solely syntac...</td>\n",
       "      <td>oop</td>\n",
       "    </tr>\n",
       "    <tr>\n",
       "      <th>47980</th>\n",
       "      <td>61.0</td>\n",
       "      <td>2008-09-07T02:32:02Z</td>\n",
       "      <td>7</td>\n",
       "      <td>sure hell small errors explode pages pages unr...</td>\n",
       "      <td>c++</td>\n",
       "    </tr>\n",
       "    <tr>\n",
       "      <th>47980</th>\n",
       "      <td>61.0</td>\n",
       "      <td>2008-09-07T02:32:02Z</td>\n",
       "      <td>7</td>\n",
       "      <td>sure hell small errors explode pages pages unr...</td>\n",
       "      <td>templates</td>\n",
       "    </tr>\n",
       "    <tr>\n",
       "      <th>47980</th>\n",
       "      <td>61.0</td>\n",
       "      <td>2008-09-07T02:32:02Z</td>\n",
       "      <td>7</td>\n",
       "      <td>sure hell small errors explode pages pages unr...</td>\n",
       "      <td>compiler-errors</td>\n",
       "    </tr>\n",
       "    <tr>\n",
       "      <th>51390</th>\n",
       "      <td>61.0</td>\n",
       "      <td>2008-09-09T08:35:20Z</td>\n",
       "      <td>2</td>\n",
       "      <td>wonder widespread jvm actually case flash ie5 ...</td>\n",
       "      <td>java</td>\n",
       "    </tr>\n",
       "    <tr>\n",
       "      <th>51390</th>\n",
       "      <td>61.0</td>\n",
       "      <td>2008-09-09T08:35:20Z</td>\n",
       "      <td>2</td>\n",
       "      <td>wonder widespread jvm actually case flash ie5 ...</td>\n",
       "      <td>applet</td>\n",
       "    </tr>\n",
       "    <tr>\n",
       "      <th>142340</th>\n",
       "      <td>61.0</td>\n",
       "      <td>2008-09-26T22:57:06Z</td>\n",
       "      <td>0</td>\n",
       "      <td>number first release second release third beta...</td>\n",
       "      <td>.net</td>\n",
       "    </tr>\n",
       "    <tr>\n",
       "      <th>142340</th>\n",
       "      <td>61.0</td>\n",
       "      <td>2008-09-26T22:57:06Z</td>\n",
       "      <td>0</td>\n",
       "      <td>number first release second release third beta...</td>\n",
       "      <td>versioning</td>\n",
       "    </tr>\n",
       "    <tr>\n",
       "      <th>526660</th>\n",
       "      <td>61.0</td>\n",
       "      <td>2009-02-08T23:41:04Z</td>\n",
       "      <td>3</td>\n",
       "      <td>need main function arguments needed passing ar...</td>\n",
       "      <td>c++</td>\n",
       "    </tr>\n",
       "    <tr>\n",
       "      <th>526660</th>\n",
       "      <td>61.0</td>\n",
       "      <td>2009-02-08T23:41:04Z</td>\n",
       "      <td>3</td>\n",
       "      <td>need main function arguments needed passing ar...</td>\n",
       "      <td>compilation</td>\n",
       "    </tr>\n",
       "    <tr>\n",
       "      <th>1581560</th>\n",
       "      <td>61.0</td>\n",
       "      <td>2009-11-23T10:24:47Z</td>\n",
       "      <td>0</td>\n",
       "      <td>answer seems use gdc stand going back d2 idea ...</td>\n",
       "      <td>linux</td>\n",
       "    </tr>\n",
       "    <tr>\n",
       "      <th>1581560</th>\n",
       "      <td>61.0</td>\n",
       "      <td>2009-11-23T10:24:47Z</td>\n",
       "      <td>0</td>\n",
       "      <td>answer seems use gdc stand going back d2 idea ...</td>\n",
       "      <td>debugging</td>\n",
       "    </tr>\n",
       "    <tr>\n",
       "      <th>1581560</th>\n",
       "      <td>61.0</td>\n",
       "      <td>2009-11-23T10:24:47Z</td>\n",
       "      <td>0</td>\n",
       "      <td>answer seems use gdc stand going back d2 idea ...</td>\n",
       "      <td>gdb</td>\n",
       "    </tr>\n",
       "    <tr>\n",
       "      <th>1581560</th>\n",
       "      <td>61.0</td>\n",
       "      <td>2009-11-23T10:24:47Z</td>\n",
       "      <td>0</td>\n",
       "      <td>answer seems use gdc stand going back d2 idea ...</td>\n",
       "      <td>d</td>\n",
       "    </tr>\n",
       "    <tr>\n",
       "      <th>2520220</th>\n",
       "      <td>61.0</td>\n",
       "      <td>2010-03-25T23:53:31Z</td>\n",
       "      <td>8</td>\n",
       "      <td>yes function must declared extern calling conv...</td>\n",
       "      <td>binding</td>\n",
       "    </tr>\n",
       "    <tr>\n",
       "      <th>2520220</th>\n",
       "      <td>61.0</td>\n",
       "      <td>2010-03-25T23:53:31Z</td>\n",
       "      <td>8</td>\n",
       "      <td>yes function must declared extern calling conv...</td>\n",
       "      <td>lua</td>\n",
       "    </tr>\n",
       "    <tr>\n",
       "      <th>2520220</th>\n",
       "      <td>61.0</td>\n",
       "      <td>2010-03-25T23:53:31Z</td>\n",
       "      <td>8</td>\n",
       "      <td>yes function must declared extern calling conv...</td>\n",
       "      <td>d</td>\n",
       "    </tr>\n",
       "    <tr>\n",
       "      <th>2520220</th>\n",
       "      <td>61.0</td>\n",
       "      <td>2010-03-25T23:53:31Z</td>\n",
       "      <td>8</td>\n",
       "      <td>yes function must declared extern calling conv...</td>\n",
       "      <td>d2</td>\n",
       "    </tr>\n",
       "    <tr>\n",
       "      <th>6553950</th>\n",
       "      <td>61.0</td>\n",
       "      <td>2011-07-02T12:03:26Z</td>\n",
       "      <td>7</td>\n",
       "      <td>asked around irc far figure never implemented ...</td>\n",
       "      <td>templates</td>\n",
       "    </tr>\n",
       "    <tr>\n",
       "      <th>6553950</th>\n",
       "      <td>61.0</td>\n",
       "      <td>2011-07-02T12:03:26Z</td>\n",
       "      <td>7</td>\n",
       "      <td>asked around irc far figure never implemented ...</td>\n",
       "      <td>d</td>\n",
       "    </tr>\n",
       "    <tr>\n",
       "      <th>6553950</th>\n",
       "      <td>61.0</td>\n",
       "      <td>2011-07-02T12:03:26Z</td>\n",
       "      <td>7</td>\n",
       "      <td>asked around irc far figure never implemented ...</td>\n",
       "      <td>compile-time</td>\n",
       "    </tr>\n",
       "    <tr>\n",
       "      <th>6553950</th>\n",
       "      <td>61.0</td>\n",
       "      <td>2011-07-02T12:03:26Z</td>\n",
       "      <td>7</td>\n",
       "      <td>asked around irc far figure never implemented ...</td>\n",
       "      <td>dmd</td>\n",
       "    </tr>\n",
       "  </tbody>\n",
       "</table>\n",
       "</div>"
      ],
      "text/plain": [
       "         OwnerUserId          CreationDate  Score  \\\n",
       "90              61.0  2008-08-01T14:45:37Z     13   \n",
       "90              61.0  2008-08-01T14:45:37Z     13   \n",
       "90              61.0  2008-08-01T14:45:37Z     13   \n",
       "90              61.0  2008-08-01T14:45:37Z     13   \n",
       "24270           61.0  2008-08-29T01:30:38Z      1   \n",
       "24270           61.0  2008-08-29T01:30:38Z      1   \n",
       "47980           61.0  2008-09-07T02:32:02Z      7   \n",
       "47980           61.0  2008-09-07T02:32:02Z      7   \n",
       "47980           61.0  2008-09-07T02:32:02Z      7   \n",
       "51390           61.0  2008-09-09T08:35:20Z      2   \n",
       "51390           61.0  2008-09-09T08:35:20Z      2   \n",
       "142340          61.0  2008-09-26T22:57:06Z      0   \n",
       "142340          61.0  2008-09-26T22:57:06Z      0   \n",
       "526660          61.0  2009-02-08T23:41:04Z      3   \n",
       "526660          61.0  2009-02-08T23:41:04Z      3   \n",
       "1581560         61.0  2009-11-23T10:24:47Z      0   \n",
       "1581560         61.0  2009-11-23T10:24:47Z      0   \n",
       "1581560         61.0  2009-11-23T10:24:47Z      0   \n",
       "1581560         61.0  2009-11-23T10:24:47Z      0   \n",
       "2520220         61.0  2010-03-25T23:53:31Z      8   \n",
       "2520220         61.0  2010-03-25T23:53:31Z      8   \n",
       "2520220         61.0  2010-03-25T23:53:31Z      8   \n",
       "2520220         61.0  2010-03-25T23:53:31Z      8   \n",
       "6553950         61.0  2011-07-02T12:03:26Z      7   \n",
       "6553950         61.0  2011-07-02T12:03:26Z      7   \n",
       "6553950         61.0  2011-07-02T12:03:26Z      7   \n",
       "6553950         61.0  2011-07-02T12:03:26Z      7   \n",
       "\n",
       "                                                      Body  \\\n",
       "90       version control subversion good resource sourc...   \n",
       "90       version control subversion good resource sourc...   \n",
       "90       version control subversion good resource sourc...   \n",
       "90       version control subversion good resource sourc...   \n",
       "24270    know find oop useful pretty much solely syntac...   \n",
       "24270    know find oop useful pretty much solely syntac...   \n",
       "47980    sure hell small errors explode pages pages unr...   \n",
       "47980    sure hell small errors explode pages pages unr...   \n",
       "47980    sure hell small errors explode pages pages unr...   \n",
       "51390    wonder widespread jvm actually case flash ie5 ...   \n",
       "51390    wonder widespread jvm actually case flash ie5 ...   \n",
       "142340   number first release second release third beta...   \n",
       "142340   number first release second release third beta...   \n",
       "526660   need main function arguments needed passing ar...   \n",
       "526660   need main function arguments needed passing ar...   \n",
       "1581560  answer seems use gdc stand going back d2 idea ...   \n",
       "1581560  answer seems use gdc stand going back d2 idea ...   \n",
       "1581560  answer seems use gdc stand going back d2 idea ...   \n",
       "1581560  answer seems use gdc stand going back d2 idea ...   \n",
       "2520220  yes function must declared extern calling conv...   \n",
       "2520220  yes function must declared extern calling conv...   \n",
       "2520220  yes function must declared extern calling conv...   \n",
       "2520220  yes function must declared extern calling conv...   \n",
       "6553950  asked around irc far figure never implemented ...   \n",
       "6553950  asked around irc far figure never implemented ...   \n",
       "6553950  asked around irc far figure never implemented ...   \n",
       "6553950  asked around irc far figure never implemented ...   \n",
       "\n",
       "                           Tag  \n",
       "90                         svn  \n",
       "90                 tortoisesvn  \n",
       "90                      branch  \n",
       "90       branching-and-merging  \n",
       "24270        language-agnostic  \n",
       "24270                      oop  \n",
       "47980                      c++  \n",
       "47980                templates  \n",
       "47980          compiler-errors  \n",
       "51390                     java  \n",
       "51390                   applet  \n",
       "142340                    .net  \n",
       "142340              versioning  \n",
       "526660                     c++  \n",
       "526660             compilation  \n",
       "1581560                  linux  \n",
       "1581560              debugging  \n",
       "1581560                    gdb  \n",
       "1581560                      d  \n",
       "2520220                binding  \n",
       "2520220                    lua  \n",
       "2520220                      d  \n",
       "2520220                     d2  \n",
       "6553950              templates  \n",
       "6553950                      d  \n",
       "6553950           compile-time  \n",
       "6553950                    dmd  "
      ]
     },
     "execution_count": 154,
     "metadata": {},
     "output_type": "execute_result"
    }
   ],
   "source": [
    "answers[answers['OwnerUserId']== 61].set_index('ParentId').join(tags)"
   ]
  },
  {
   "cell_type": "markdown",
   "metadata": {},
   "source": [
    "Number of users we will begin dealing with"
   ]
  },
  {
   "cell_type": "code",
   "execution_count": 177,
   "metadata": {},
   "outputs": [
    {
     "name": "stdout",
     "output_type": "stream",
     "text": [
      "446585 446585 446585\n"
     ]
    }
   ],
   "source": [
    "print(len(user_scores.index.unique()),len(user_answers.index.unique()), len(answers['OwnerUserId'].unique()))"
   ]
  },
  {
   "cell_type": "markdown",
   "metadata": {},
   "source": [
    "To make sure all tag ids trace back to at least one question"
   ]
  },
  {
   "cell_type": "code",
   "execution_count": 144,
   "metadata": {},
   "outputs": [
    {
     "name": "stdout",
     "output_type": "stream",
     "text": [
      "3005933 3464882\n"
     ]
    }
   ],
   "source": [
    "print(len(tags[tags.index.isin(answers['ParentId'])]), len(tags))"
   ]
  },
  {
   "cell_type": "code",
   "execution_count": 145,
   "metadata": {},
   "outputs": [
    {
     "data": {
      "text/plain": [
       "array(['flex', 'actionscript-3', 'air', ..., 'grails-spring-security',\n",
       "       'blacklist', 'docker-windows'], dtype=object)"
      ]
     },
     "execution_count": 145,
     "metadata": {},
     "output_type": "execute_result"
    }
   ],
   "source": [
    "tags[tags.index.isin(answers['ParentId'])]['Tag'].unique()"
   ]
  },
  {
   "cell_type": "markdown",
   "metadata": {},
   "source": [
    "Number of questions we will be dealing with"
   ]
  },
  {
   "cell_type": "code",
   "execution_count": 146,
   "metadata": {},
   "outputs": [
    {
     "data": {
      "text/plain": [
       "1900285"
      ]
     },
     "execution_count": 146,
     "metadata": {},
     "output_type": "execute_result"
    }
   ],
   "source": [
    "len(answers)"
   ]
  },
  {
   "cell_type": "markdown",
   "metadata": {},
   "source": [
    "The amount of answers which have just a 0 score. For this exercise, we will be treating as having a score of one, becasue dropping these would drop more than a third of our data"
   ]
  },
  {
   "cell_type": "code",
   "execution_count": 148,
   "metadata": {},
   "outputs": [
    {
     "data": {
      "text/plain": [
       "731495"
      ]
     },
     "execution_count": 148,
     "metadata": {},
     "output_type": "execute_result"
    }
   ],
   "source": [
    "len(answers[answers['Score'] == 0])"
   ]
  },
  {
   "cell_type": "code",
   "execution_count": 160,
   "metadata": {},
   "outputs": [
    {
     "data": {
      "text/plain": [
       "Int64Index([      92,      124,      199,      269,      307,      332,\n",
       "                 344,      359,      473,      529,\n",
       "            ...\n",
       "            40143180, 40143200, 40143212, 40143236, 40143237, 40143247,\n",
       "            40143322, 40143336, 40143349, 40143389],\n",
       "           dtype='int64', name='Id', length=1900285)"
      ]
     },
     "execution_count": 160,
     "metadata": {},
     "output_type": "execute_result"
    }
   ],
   "source": [
    "answers.index"
   ]
  },
  {
   "cell_type": "markdown",
   "metadata": {},
   "source": [
    "## Populating the matrices\n",
    "\n",
    "This loop iterates through our dataset and adds \n",
    "1. 1 to each tag, *per tag per question* to the asker's row\n",
    "2. The maximum of (1,Score) *per tag per question* to the asker's row. The max serves to treat 0 scores as 1\n",
    "\n",
    "If score is less than 0, do nothing"
   ]
  },
  {
   "cell_type": "code",
   "execution_count": 163,
   "metadata": {},
   "outputs": [
    {
     "data": {
      "text/html": [
       "<div>\n",
       "<style scoped>\n",
       "    .dataframe tbody tr th:only-of-type {\n",
       "        vertical-align: middle;\n",
       "    }\n",
       "\n",
       "    .dataframe tbody tr th {\n",
       "        vertical-align: top;\n",
       "    }\n",
       "\n",
       "    .dataframe thead th {\n",
       "        text-align: right;\n",
       "    }\n",
       "</style>\n",
       "<table border=\"1\" class=\"dataframe\">\n",
       "  <thead>\n",
       "    <tr style=\"text-align: right;\">\n",
       "      <th></th>\n",
       "      <th>OwnerUserId</th>\n",
       "      <th>CreationDate</th>\n",
       "      <th>ParentId</th>\n",
       "      <th>Score</th>\n",
       "      <th>Body</th>\n",
       "    </tr>\n",
       "    <tr>\n",
       "      <th>Id</th>\n",
       "      <th></th>\n",
       "      <th></th>\n",
       "      <th></th>\n",
       "      <th></th>\n",
       "      <th></th>\n",
       "    </tr>\n",
       "  </thead>\n",
       "  <tbody>\n",
       "    <tr>\n",
       "      <th>92</th>\n",
       "      <td>61.0</td>\n",
       "      <td>2008-08-01T14:45:37Z</td>\n",
       "      <td>90</td>\n",
       "      <td>13</td>\n",
       "      <td>version control subversion good resource sourc...</td>\n",
       "    </tr>\n",
       "  </tbody>\n",
       "</table>\n",
       "</div>"
      ],
      "text/plain": [
       "    OwnerUserId          CreationDate  ParentId  Score  \\\n",
       "Id                                                       \n",
       "92         61.0  2008-08-01T14:45:37Z        90     13   \n",
       "\n",
       "                                                 Body  \n",
       "Id                                                     \n",
       "92  version control subversion good resource sourc...  "
      ]
     },
     "execution_count": 163,
     "metadata": {},
     "output_type": "execute_result"
    }
   ],
   "source": [
    "answers[answers.index == 92]"
   ]
  },
  {
   "cell_type": "code",
   "execution_count": 178,
   "metadata": {},
   "outputs": [
    {
     "name": "stdout",
     "output_type": "stream",
     "text": [
      "40.0 %\n",
      "110.0 %\n",
      "200.0 %\n",
      "240.0 %\n",
      "320.0 %\n",
      "500.0 %\n",
      "1330.0 %\n",
      "1860.0 %\n",
      "1910.0 %\n",
      "1980.0 %\n"
     ]
    }
   ],
   "source": [
    "for answer_index, answer in answers.iterrows():\n",
    "    if answer['Score'] < 0:\n",
    "        continue\n",
    "    answer_tags = tags[tags.index == answer[0]]\n",
    "    for tag_index,tag in answer_tags.iterrows():\n",
    "        user_answers.at[answer['OwnerUserId'],tag['Tag']] += 1\n",
    "        user_scores.at[answer['OwnerUserId'],tag['Tag']] += max(answer['Score'],1)"
   ]
  },
  {
   "cell_type": "code",
   "execution_count": null,
   "metadata": {},
   "outputs": [],
   "source": [
    "bad_users = user_answers[user_answers.sum(axis=1) == 0].index"
   ]
  },
  {
   "cell_type": "code",
   "execution_count": null,
   "metadata": {},
   "outputs": [],
   "source": [
    "len(bad_users)"
   ]
  },
  {
   "cell_type": "code",
   "execution_count": 48,
   "metadata": {},
   "outputs": [
    {
     "data": {
      "text/html": [
       "<div>\n",
       "<style scoped>\n",
       "    .dataframe tbody tr th:only-of-type {\n",
       "        vertical-align: middle;\n",
       "    }\n",
       "\n",
       "    .dataframe tbody tr th {\n",
       "        vertical-align: top;\n",
       "    }\n",
       "\n",
       "    .dataframe thead th {\n",
       "        text-align: right;\n",
       "    }\n",
       "</style>\n",
       "<table border=\"1\" class=\"dataframe\">\n",
       "  <thead>\n",
       "    <tr style=\"text-align: right;\">\n",
       "      <th></th>\n",
       "      <th>.net</th>\n",
       "      <th>actionscript-3</th>\n",
       "      <th>angularjs</th>\n",
       "      <th>asp.net</th>\n",
       "      <th>c#</th>\n",
       "      <th>cookies</th>\n",
       "      <th>css</th>\n",
       "      <th>date</th>\n",
       "      <th>flash</th>\n",
       "      <th>flex</th>\n",
       "      <th>generics</th>\n",
       "      <th>html</th>\n",
       "      <th>javascript</th>\n",
       "      <th>session</th>\n",
       "      <th>sqlite</th>\n",
       "      <th>tsql</th>\n",
       "      <th>vb.net</th>\n",
       "      <th>web-services</th>\n",
       "      <th>xml</th>\n",
       "    </tr>\n",
       "    <tr>\n",
       "      <th>Id</th>\n",
       "      <th></th>\n",
       "      <th></th>\n",
       "      <th></th>\n",
       "      <th></th>\n",
       "      <th></th>\n",
       "      <th></th>\n",
       "      <th></th>\n",
       "      <th></th>\n",
       "      <th></th>\n",
       "      <th></th>\n",
       "      <th></th>\n",
       "      <th></th>\n",
       "      <th></th>\n",
       "      <th></th>\n",
       "      <th></th>\n",
       "      <th></th>\n",
       "      <th></th>\n",
       "      <th></th>\n",
       "      <th></th>\n",
       "    </tr>\n",
       "  </thead>\n",
       "  <tbody>\n",
       "    <tr>\n",
       "      <th>26.0</th>\n",
       "      <td>1.0</td>\n",
       "      <td>1.0</td>\n",
       "      <td>1.0</td>\n",
       "      <td>4.0</td>\n",
       "      <td>3.0</td>\n",
       "      <td>1.0</td>\n",
       "      <td>1.0</td>\n",
       "      <td>1.0</td>\n",
       "      <td>1.0</td>\n",
       "      <td>3.0</td>\n",
       "      <td>1.0</td>\n",
       "      <td>1.0</td>\n",
       "      <td>1.0</td>\n",
       "      <td>1.0</td>\n",
       "      <td>1.0</td>\n",
       "      <td>1.0</td>\n",
       "      <td>1.0</td>\n",
       "      <td>1.0</td>\n",
       "      <td>1.0</td>\n",
       "    </tr>\n",
       "    <tr>\n",
       "      <th>58.0</th>\n",
       "      <td>0.0</td>\n",
       "      <td>0.0</td>\n",
       "      <td>0.0</td>\n",
       "      <td>0.0</td>\n",
       "      <td>0.0</td>\n",
       "      <td>0.0</td>\n",
       "      <td>0.0</td>\n",
       "      <td>0.0</td>\n",
       "      <td>0.0</td>\n",
       "      <td>0.0</td>\n",
       "      <td>0.0</td>\n",
       "      <td>0.0</td>\n",
       "      <td>0.0</td>\n",
       "      <td>0.0</td>\n",
       "      <td>0.0</td>\n",
       "      <td>0.0</td>\n",
       "      <td>0.0</td>\n",
       "      <td>0.0</td>\n",
       "      <td>0.0</td>\n",
       "    </tr>\n",
       "    <tr>\n",
       "      <th>83.0</th>\n",
       "      <td>9.0</td>\n",
       "      <td>0.0</td>\n",
       "      <td>0.0</td>\n",
       "      <td>6.0</td>\n",
       "      <td>1.0</td>\n",
       "      <td>0.0</td>\n",
       "      <td>0.0</td>\n",
       "      <td>0.0</td>\n",
       "      <td>0.0</td>\n",
       "      <td>0.0</td>\n",
       "      <td>1.0</td>\n",
       "      <td>0.0</td>\n",
       "      <td>1.0</td>\n",
       "      <td>0.0</td>\n",
       "      <td>0.0</td>\n",
       "      <td>1.0</td>\n",
       "      <td>3.0</td>\n",
       "      <td>0.0</td>\n",
       "      <td>0.0</td>\n",
       "    </tr>\n",
       "  </tbody>\n",
       "</table>\n",
       "</div>"
      ],
      "text/plain": [
       "      .net  actionscript-3  angularjs  asp.net   c#  cookies  css  date  \\\n",
       "Id                                                                        \n",
       "26.0   1.0             1.0        1.0      4.0  3.0      1.0  1.0   1.0   \n",
       "58.0   0.0             0.0        0.0      0.0  0.0      0.0  0.0   0.0   \n",
       "83.0   9.0             0.0        0.0      6.0  1.0      0.0  0.0   0.0   \n",
       "\n",
       "      flash  flex  generics  html  javascript  session  sqlite  tsql  vb.net  \\\n",
       "Id                                                                             \n",
       "26.0    1.0   3.0       1.0   1.0         1.0      1.0     1.0   1.0     1.0   \n",
       "58.0    0.0   0.0       0.0   0.0         0.0      0.0     0.0   0.0     0.0   \n",
       "83.0    0.0   0.0       1.0   0.0         1.0      0.0     0.0   1.0     3.0   \n",
       "\n",
       "      web-services  xml  \n",
       "Id                       \n",
       "26.0           1.0  1.0  \n",
       "58.0           0.0  0.0  \n",
       "83.0           0.0  0.0  "
      ]
     },
     "execution_count": 48,
     "metadata": {},
     "output_type": "execute_result"
    }
   ],
   "source": [
    "user_answers.head(3)"
   ]
  },
  {
   "cell_type": "code",
   "execution_count": 50,
   "metadata": {},
   "outputs": [],
   "source": [
    "user_scores.to_csv(\"../profiles/answer_scores.csv\",encoding=\"latin1\",index='Id', )\n",
    "user_questions.to_csv(\"../profiles/answer_counts.csv\",encoding=\"latin1\",index='Id')"
   ]
  },
  {
   "cell_type": "markdown",
   "metadata": {},
   "source": [
    "## Mapping User Score data and User question count data into a profile"
   ]
  },
  {
   "cell_type": "code",
   "execution_count": 72,
   "metadata": {},
   "outputs": [],
   "source": [
    "user_scores = pd.read_csv(\"../profiles/answer_scores.csv\",encoding=\"latin1\",index_col='Id')\n",
    "user_answers = pd.read_csv(\"../profiles/answer_counts.csv\",encoding=\"latin1\",index_col='Id')"
   ]
  },
  {
   "cell_type": "markdown",
   "metadata": {},
   "source": [
    "### Treating users with all negative scores\n",
    "For this exercise, we will dispose those users' questions from the question and tag datasets"
   ]
  },
  {
   "cell_type": "code",
   "execution_count": null,
   "metadata": {},
   "outputs": [],
   "source": [
    "bad_users = user_scores.loc[(user_scores==0).all(axis=1)]"
   ]
  },
  {
   "cell_type": "code",
   "execution_count": null,
   "metadata": {},
   "outputs": [],
   "source": [
    "tags = pd.read_csv(\"../input/Tags_Filtered.csv\", encoding='latin1',index_col='Id')\n",
    "questions = pd.read_csv(\"../input/Questions_Filtered.csv\",encoding=\"latin1\",index_col='Id')"
   ]
  },
  {
   "cell_type": "code",
   "execution_count": 80,
   "metadata": {},
   "outputs": [
    {
     "data": {
      "text/html": [
       "<div>\n",
       "<style scoped>\n",
       "    .dataframe tbody tr th:only-of-type {\n",
       "        vertical-align: middle;\n",
       "    }\n",
       "\n",
       "    .dataframe tbody tr th {\n",
       "        vertical-align: top;\n",
       "    }\n",
       "\n",
       "    .dataframe thead th {\n",
       "        text-align: right;\n",
       "    }\n",
       "</style>\n",
       "<table border=\"1\" class=\"dataframe\">\n",
       "  <thead>\n",
       "    <tr style=\"text-align: right;\">\n",
       "      <th></th>\n",
       "      <th>OwnerUserId</th>\n",
       "      <th>CreationDate</th>\n",
       "      <th>ClosedDate</th>\n",
       "      <th>Score</th>\n",
       "      <th>Title</th>\n",
       "      <th>Body</th>\n",
       "      <th>Tag</th>\n",
       "    </tr>\n",
       "    <tr>\n",
       "      <th>Id</th>\n",
       "      <th></th>\n",
       "      <th></th>\n",
       "      <th></th>\n",
       "      <th></th>\n",
       "      <th></th>\n",
       "      <th></th>\n",
       "      <th></th>\n",
       "    </tr>\n",
       "  </thead>\n",
       "  <tbody>\n",
       "    <tr>\n",
       "      <th>204970</th>\n",
       "      <td>25778.0</td>\n",
       "      <td>2008-10-15T14:40:11Z</td>\n",
       "      <td>NaN</td>\n",
       "      <td>-3</td>\n",
       "      <td>split string fixed character sequence</td>\n",
       "      <td>suppose following string string asd test ass t...</td>\n",
       "      <td>java</td>\n",
       "    </tr>\n",
       "    <tr>\n",
       "      <th>204970</th>\n",
       "      <td>25778.0</td>\n",
       "      <td>2008-10-15T14:40:11Z</td>\n",
       "      <td>NaN</td>\n",
       "      <td>-3</td>\n",
       "      <td>split string fixed character sequence</td>\n",
       "      <td>suppose following string string asd test ass t...</td>\n",
       "      <td>string</td>\n",
       "    </tr>\n",
       "  </tbody>\n",
       "</table>\n",
       "</div>"
      ],
      "text/plain": [
       "        OwnerUserId          CreationDate ClosedDate  Score  \\\n",
       "Id                                                            \n",
       "204970      25778.0  2008-10-15T14:40:11Z        NaN     -3   \n",
       "204970      25778.0  2008-10-15T14:40:11Z        NaN     -3   \n",
       "\n",
       "                                        Title  \\\n",
       "Id                                              \n",
       "204970  split string fixed character sequence   \n",
       "204970  split string fixed character sequence   \n",
       "\n",
       "                                                     Body     Tag  \n",
       "Id                                                                 \n",
       "204970  suppose following string string asd test ass t...    java  \n",
       "204970  suppose following string string asd test ass t...  string  "
      ]
     },
     "execution_count": 80,
     "metadata": {},
     "output_type": "execute_result"
    }
   ],
   "source": [
    "questions[questions['OwnerUserId']== 25778].set_index('Id').join(tags.set_index('Id'))"
   ]
  },
  {
   "cell_type": "code",
   "execution_count": 84,
   "metadata": {},
   "outputs": [],
   "source": [
    "questions = questions[~questions['OwnerUserId'].isin(bad_users)]\n",
    "tags = tags[~tags['Id'].isin(questions['Id'].tolist())]"
   ]
  },
  {
   "cell_type": "code",
   "execution_count": 88,
   "metadata": {},
   "outputs": [],
   "source": [
    "tags = tags.to_csv(\"../input/Tags_Filtered.csv\", encoding='latin1',index=False)\n",
    "questions = questions.to_csv(\"../input/Questions_Filtered.csv\",encoding=\"latin1\",index=False)"
   ]
  },
  {
   "cell_type": "code",
   "execution_count": 89,
   "metadata": {},
   "outputs": [],
   "source": [
    "user_scores = user_scores.loc[~(user_scores==0).all(axis=1)]\n",
    "user_questions = user_questions.loc[~(user_questions==0).all(axis=1)]"
   ]
  },
  {
   "cell_type": "code",
   "execution_count": 95,
   "metadata": {},
   "outputs": [
    {
     "name": "stdout",
     "output_type": "stream",
     "text": [
      "553866 553866\n"
     ]
    }
   ],
   "source": [
    "print(len(user_scores), len(user_questions))"
   ]
  },
  {
   "cell_type": "markdown",
   "metadata": {},
   "source": [
    "## Now that we've gotten rid of bad users, we are ready to generate profiles for them"
   ]
  },
  {
   "cell_type": "markdown",
   "metadata": {},
   "source": [
    "### We will normalize a user's question count here"
   ]
  },
  {
   "cell_type": "code",
   "execution_count": 20,
   "metadata": {},
   "outputs": [],
   "source": [
    "user_scores = pd.read_csv(\"../profiles/question_scores.csv\",encoding=\"latin1\",index_col='Id' )\n",
    "user_questions = pd.read_csv(\"../profiles/question_counts.csv\",encoding=\"latin1\",index_col='Id')"
   ]
  },
  {
   "cell_type": "code",
   "execution_count": 42,
   "metadata": {},
   "outputs": [],
   "source": [
    "bad_users = user_scores[user_scores.sum(axis=1) == 0].index\n",
    "user_scores = user_scores[~user_scores.index.isin(bad_users)]\n",
    "user_questions = user_questions[~user_questions.index.isin(bad_users)]"
   ]
  },
  {
   "cell_type": "code",
   "execution_count": 46,
   "metadata": {},
   "outputs": [
    {
     "data": {
      "text/plain": [
       "True"
      ]
     },
     "execution_count": 46,
     "metadata": {},
     "output_type": "execute_result"
    }
   ],
   "source": [
    "user_questions_index.shape == user_scores.shape"
   ]
  },
  {
   "cell_type": "code",
   "execution_count": 44,
   "metadata": {},
   "outputs": [
    {
     "data": {
      "text/html": [
       "<div>\n",
       "<style scoped>\n",
       "    .dataframe tbody tr th:only-of-type {\n",
       "        vertical-align: middle;\n",
       "    }\n",
       "\n",
       "    .dataframe tbody tr th {\n",
       "        vertical-align: top;\n",
       "    }\n",
       "\n",
       "    .dataframe thead th {\n",
       "        text-align: right;\n",
       "    }\n",
       "</style>\n",
       "<table border=\"1\" class=\"dataframe\">\n",
       "  <thead>\n",
       "    <tr style=\"text-align: right;\">\n",
       "      <th></th>\n",
       "      <th>flex</th>\n",
       "      <th>actionscript-3</th>\n",
       "      <th>svn</th>\n",
       "      <th>sql</th>\n",
       "      <th>asp.net</th>\n",
       "      <th>algorithm</th>\n",
       "      <th>colors</th>\n",
       "      <th>c#</th>\n",
       "      <th>.net</th>\n",
       "      <th>c++</th>\n",
       "      <th>...</th>\n",
       "      <th>meteor</th>\n",
       "      <th>laravel</th>\n",
       "      <th>firebase</th>\n",
       "      <th>parse.com</th>\n",
       "      <th>typescript</th>\n",
       "      <th>docker</th>\n",
       "      <th>apache-spark</th>\n",
       "      <th>reactjs</th>\n",
       "      <th>spring-boot</th>\n",
       "      <th>ionic-framework</th>\n",
       "    </tr>\n",
       "    <tr>\n",
       "      <th>Id</th>\n",
       "      <th></th>\n",
       "      <th></th>\n",
       "      <th></th>\n",
       "      <th></th>\n",
       "      <th></th>\n",
       "      <th></th>\n",
       "      <th></th>\n",
       "      <th></th>\n",
       "      <th></th>\n",
       "      <th></th>\n",
       "      <th></th>\n",
       "      <th></th>\n",
       "      <th></th>\n",
       "      <th></th>\n",
       "      <th></th>\n",
       "      <th></th>\n",
       "      <th></th>\n",
       "      <th></th>\n",
       "      <th></th>\n",
       "      <th></th>\n",
       "      <th></th>\n",
       "    </tr>\n",
       "  </thead>\n",
       "  <tbody>\n",
       "    <tr>\n",
       "      <th>26.0</th>\n",
       "      <td>0.115385</td>\n",
       "      <td>0.038462</td>\n",
       "      <td>0.0</td>\n",
       "      <td>0.0</td>\n",
       "      <td>0.153846</td>\n",
       "      <td>0.0</td>\n",
       "      <td>0.0</td>\n",
       "      <td>0.115385</td>\n",
       "      <td>0.038462</td>\n",
       "      <td>0.0</td>\n",
       "      <td>...</td>\n",
       "      <td>0.0</td>\n",
       "      <td>0.0</td>\n",
       "      <td>0.0</td>\n",
       "      <td>0.0</td>\n",
       "      <td>0.0</td>\n",
       "      <td>0.0</td>\n",
       "      <td>0.0</td>\n",
       "      <td>0.0</td>\n",
       "      <td>0.0</td>\n",
       "      <td>0.0</td>\n",
       "    </tr>\n",
       "  </tbody>\n",
       "</table>\n",
       "<p>1 rows × 362 columns</p>\n",
       "</div>"
      ],
      "text/plain": [
       "          flex  actionscript-3  svn  sql   asp.net  algorithm  colors  \\\n",
       "Id                                                                      \n",
       "26.0  0.115385        0.038462  0.0  0.0  0.153846        0.0     0.0   \n",
       "\n",
       "            c#      .net  c++       ...         meteor  laravel  firebase  \\\n",
       "Id                                  ...                                     \n",
       "26.0  0.115385  0.038462  0.0       ...            0.0      0.0       0.0   \n",
       "\n",
       "      parse.com  typescript  docker  apache-spark  reactjs  spring-boot  \\\n",
       "Id                                                                        \n",
       "26.0        0.0         0.0     0.0           0.0      0.0          0.0   \n",
       "\n",
       "      ionic-framework  \n",
       "Id                     \n",
       "26.0              0.0  \n",
       "\n",
       "[1 rows x 362 columns]"
      ]
     },
     "execution_count": 44,
     "metadata": {},
     "output_type": "execute_result"
    }
   ],
   "source": [
    "user_questions_index = user_questions.div(user_questions.sum(axis=1), axis=0)\n",
    "user_questions_index.head(1)"
   ]
  },
  {
   "cell_type": "code",
   "execution_count": 22,
   "metadata": {},
   "outputs": [
    {
     "data": {
      "text/html": [
       "<div>\n",
       "<style scoped>\n",
       "    .dataframe tbody tr th:only-of-type {\n",
       "        vertical-align: middle;\n",
       "    }\n",
       "\n",
       "    .dataframe tbody tr th {\n",
       "        vertical-align: top;\n",
       "    }\n",
       "\n",
       "    .dataframe thead th {\n",
       "        text-align: right;\n",
       "    }\n",
       "</style>\n",
       "<table border=\"1\" class=\"dataframe\">\n",
       "  <thead>\n",
       "    <tr style=\"text-align: right;\">\n",
       "      <th></th>\n",
       "      <th>flex</th>\n",
       "      <th>actionscript-3</th>\n",
       "      <th>svn</th>\n",
       "      <th>sql</th>\n",
       "      <th>asp.net</th>\n",
       "      <th>algorithm</th>\n",
       "      <th>colors</th>\n",
       "      <th>c#</th>\n",
       "      <th>.net</th>\n",
       "      <th>c++</th>\n",
       "      <th>...</th>\n",
       "      <th>meteor</th>\n",
       "      <th>laravel</th>\n",
       "      <th>firebase</th>\n",
       "      <th>parse.com</th>\n",
       "      <th>typescript</th>\n",
       "      <th>docker</th>\n",
       "      <th>apache-spark</th>\n",
       "      <th>reactjs</th>\n",
       "      <th>spring-boot</th>\n",
       "      <th>ionic-framework</th>\n",
       "    </tr>\n",
       "    <tr>\n",
       "      <th>Id</th>\n",
       "      <th></th>\n",
       "      <th></th>\n",
       "      <th></th>\n",
       "      <th></th>\n",
       "      <th></th>\n",
       "      <th></th>\n",
       "      <th></th>\n",
       "      <th></th>\n",
       "      <th></th>\n",
       "      <th></th>\n",
       "      <th></th>\n",
       "      <th></th>\n",
       "      <th></th>\n",
       "      <th></th>\n",
       "      <th></th>\n",
       "      <th></th>\n",
       "      <th></th>\n",
       "      <th></th>\n",
       "      <th></th>\n",
       "      <th></th>\n",
       "      <th></th>\n",
       "    </tr>\n",
       "  </thead>\n",
       "  <tbody>\n",
       "    <tr>\n",
       "      <th>26.0</th>\n",
       "      <td>30.0</td>\n",
       "      <td>26.0</td>\n",
       "      <td>0.0</td>\n",
       "      <td>0.0</td>\n",
       "      <td>4.0</td>\n",
       "      <td>0.0</td>\n",
       "      <td>0.0</td>\n",
       "      <td>18.0</td>\n",
       "      <td>6.0</td>\n",
       "      <td>0.0</td>\n",
       "      <td>...</td>\n",
       "      <td>0.0</td>\n",
       "      <td>0.0</td>\n",
       "      <td>0.0</td>\n",
       "      <td>0.0</td>\n",
       "      <td>0.0</td>\n",
       "      <td>0.0</td>\n",
       "      <td>0.0</td>\n",
       "      <td>0.0</td>\n",
       "      <td>0.0</td>\n",
       "      <td>0.0</td>\n",
       "    </tr>\n",
       "  </tbody>\n",
       "</table>\n",
       "<p>1 rows × 362 columns</p>\n",
       "</div>"
      ],
      "text/plain": [
       "      flex  actionscript-3  svn  sql  asp.net  algorithm  colors    c#  .net  \\\n",
       "Id                                                                             \n",
       "26.0  30.0            26.0  0.0  0.0      4.0        0.0     0.0  18.0   6.0   \n",
       "\n",
       "      c++       ...         meteor  laravel  firebase  parse.com  typescript  \\\n",
       "Id              ...                                                            \n",
       "26.0  0.0       ...            0.0      0.0       0.0        0.0         0.0   \n",
       "\n",
       "      docker  apache-spark  reactjs  spring-boot  ionic-framework  \n",
       "Id                                                                 \n",
       "26.0     0.0           0.0      0.0          0.0              0.0  \n",
       "\n",
       "[1 rows x 362 columns]"
      ]
     },
     "execution_count": 22,
     "metadata": {},
     "output_type": "execute_result"
    }
   ],
   "source": [
    "user_scores.head(1)"
   ]
  },
  {
   "cell_type": "markdown",
   "metadata": {},
   "source": [
    "### Since we normalized the values, we expect the sum of al the rows to sum up to zero"
   ]
  },
  {
   "cell_type": "code",
   "execution_count": 45,
   "metadata": {},
   "outputs": [
    {
     "data": {
      "text/plain": [
       "Id\n",
       "5600344.0    1.0\n",
       "dtype: float64"
      ]
     },
     "execution_count": 45,
     "metadata": {},
     "output_type": "execute_result"
    }
   ],
   "source": [
    "user_questions_index.sample(1).sum(axis=1)"
   ]
  },
  {
   "cell_type": "code",
   "execution_count": 47,
   "metadata": {},
   "outputs": [],
   "source": [
    "user_information = user_questions_index.multiply(user_scores)"
   ]
  },
  {
   "cell_type": "code",
   "execution_count": 48,
   "metadata": {},
   "outputs": [
    {
     "data": {
      "text/html": [
       "<div>\n",
       "<style scoped>\n",
       "    .dataframe tbody tr th:only-of-type {\n",
       "        vertical-align: middle;\n",
       "    }\n",
       "\n",
       "    .dataframe tbody tr th {\n",
       "        vertical-align: top;\n",
       "    }\n",
       "\n",
       "    .dataframe thead th {\n",
       "        text-align: right;\n",
       "    }\n",
       "</style>\n",
       "<table border=\"1\" class=\"dataframe\">\n",
       "  <thead>\n",
       "    <tr style=\"text-align: right;\">\n",
       "      <th></th>\n",
       "      <th>.net</th>\n",
       "      <th>actionscript-3</th>\n",
       "      <th>angularjs</th>\n",
       "      <th>asp.net</th>\n",
       "      <th>c#</th>\n",
       "      <th>cookies</th>\n",
       "      <th>css</th>\n",
       "      <th>date</th>\n",
       "      <th>flash</th>\n",
       "      <th>flex</th>\n",
       "      <th>generics</th>\n",
       "      <th>html</th>\n",
       "      <th>javascript</th>\n",
       "      <th>session</th>\n",
       "      <th>sqlite</th>\n",
       "      <th>tsql</th>\n",
       "      <th>vb.net</th>\n",
       "      <th>web-services</th>\n",
       "      <th>xml</th>\n",
       "    </tr>\n",
       "    <tr>\n",
       "      <th>Id</th>\n",
       "      <th></th>\n",
       "      <th></th>\n",
       "      <th></th>\n",
       "      <th></th>\n",
       "      <th></th>\n",
       "      <th></th>\n",
       "      <th></th>\n",
       "      <th></th>\n",
       "      <th></th>\n",
       "      <th></th>\n",
       "      <th></th>\n",
       "      <th></th>\n",
       "      <th></th>\n",
       "      <th></th>\n",
       "      <th></th>\n",
       "      <th></th>\n",
       "      <th></th>\n",
       "      <th></th>\n",
       "      <th></th>\n",
       "    </tr>\n",
       "  </thead>\n",
       "  <tbody>\n",
       "    <tr>\n",
       "      <th>26.0</th>\n",
       "      <td>0.230769</td>\n",
       "      <td>1.0</td>\n",
       "      <td>0.076923</td>\n",
       "      <td>0.615385</td>\n",
       "      <td>2.076923</td>\n",
       "      <td>0.230769</td>\n",
       "      <td>0.384615</td>\n",
       "      <td>0.038462</td>\n",
       "      <td>0.038462</td>\n",
       "      <td>3.461538</td>\n",
       "      <td>0.076923</td>\n",
       "      <td>0.384615</td>\n",
       "      <td>0.153846</td>\n",
       "      <td>0.230769</td>\n",
       "      <td>0.038462</td>\n",
       "      <td>0.038462</td>\n",
       "      <td>0.038462</td>\n",
       "      <td>0.153846</td>\n",
       "      <td>0.153846</td>\n",
       "    </tr>\n",
       "  </tbody>\n",
       "</table>\n",
       "</div>"
      ],
      "text/plain": [
       "          .net  actionscript-3  angularjs   asp.net        c#   cookies  \\\n",
       "Id                                                                        \n",
       "26.0  0.230769             1.0   0.076923  0.615385  2.076923  0.230769   \n",
       "\n",
       "           css      date     flash      flex  generics      html  javascript  \\\n",
       "Id                                                                             \n",
       "26.0  0.384615  0.038462  0.038462  3.461538  0.076923  0.384615    0.153846   \n",
       "\n",
       "       session    sqlite      tsql    vb.net  web-services       xml  \n",
       "Id                                                                    \n",
       "26.0  0.230769  0.038462  0.038462  0.038462      0.153846  0.153846  "
      ]
     },
     "execution_count": 48,
     "metadata": {},
     "output_type": "execute_result"
    }
   ],
   "source": [
    "user_information.head(1).loc[:,['.net','actionscript-3', 'angularjs', 'asp.net', 'c#', 'cookies','css', 'date', 'flash', 'flex', 'generics','html', 'javascript', 'session', 'sqlite', 'tsql',  'vb.net', 'web-services', 'xml']]"
   ]
  },
  {
   "cell_type": "markdown",
   "metadata": {},
   "source": [
    "In this weighted average, the minimum \"Knowledge\" a person can have is if they asked one question which had a score of \"1\" to it (we count 0 as a 1 score wise)"
   ]
  },
  {
   "cell_type": "code",
   "execution_count": 49,
   "metadata": {},
   "outputs": [
    {
     "data": {
      "text/plain": [
       "0.9999999999999998"
      ]
     },
     "execution_count": 49,
     "metadata": {},
     "output_type": "execute_result"
    }
   ],
   "source": [
    "min(user_information.sum(axis=1))"
   ]
  },
  {
   "cell_type": "code",
   "execution_count": 51,
   "metadata": {},
   "outputs": [],
   "source": [
    "user_information.to_csv(\"../profiles/question_profiles.csv\",encoding=\"latin1\",index='Id')"
   ]
  }
 ],
 "metadata": {
  "kernelspec": {
   "display_name": "Python 3",
   "language": "python",
   "name": "python3"
  },
  "language_info": {
   "codemirror_mode": {
    "name": "ipython",
    "version": 3
   },
   "file_extension": ".py",
   "mimetype": "text/x-python",
   "name": "python",
   "nbconvert_exporter": "python",
   "pygments_lexer": "ipython3",
   "version": "3.6.4"
  }
 },
 "nbformat": 4,
 "nbformat_minor": 2
}
