{
 "cells": [
  {
   "cell_type": "markdown",
   "metadata": {},
   "source": [
    "# Mapping Questions into a user Profile"
   ]
  },
  {
   "cell_type": "code",
   "execution_count": 1,
   "metadata": {},
   "outputs": [],
   "source": [
    "import math\n",
    "import numpy as np # linear algebra\n",
    "import pandas as pd # data processing, CSV file I/O (e.g. pd.read_csv)"
   ]
  },
  {
   "cell_type": "code",
   "execution_count": null,
   "metadata": {},
   "outputs": [],
   "source": [
    "tags = pd.read_csv(\"../input/Tags_Filtered.csv\", encoding='latin1', index_col = 'Id')\n",
    "questions = pd.read_csv(\"../input/Questions_Filtered.csv\",encoding=\"latin1\", index_col = 'Id')"
   ]
  },
  {
   "cell_type": "code",
   "execution_count": 138,
   "metadata": {},
   "outputs": [
    {
     "data": {
      "text/html": [
       "<div>\n",
       "<style scoped>\n",
       "    .dataframe tbody tr th:only-of-type {\n",
       "        vertical-align: middle;\n",
       "    }\n",
       "\n",
       "    .dataframe tbody tr th {\n",
       "        vertical-align: top;\n",
       "    }\n",
       "\n",
       "    .dataframe thead th {\n",
       "        text-align: right;\n",
       "    }\n",
       "</style>\n",
       "<table border=\"1\" class=\"dataframe\">\n",
       "  <thead>\n",
       "    <tr style=\"text-align: right;\">\n",
       "      <th></th>\n",
       "      <th>Tag</th>\n",
       "    </tr>\n",
       "    <tr>\n",
       "      <th>Id</th>\n",
       "      <th></th>\n",
       "    </tr>\n",
       "  </thead>\n",
       "  <tbody>\n",
       "    <tr>\n",
       "      <th>12184050</th>\n",
       "      <td>wpf</td>\n",
       "    </tr>\n",
       "    <tr>\n",
       "      <th>10025730</th>\n",
       "      <td>javascript</td>\n",
       "    </tr>\n",
       "    <tr>\n",
       "      <th>24535430</th>\n",
       "      <td>c++</td>\n",
       "    </tr>\n",
       "  </tbody>\n",
       "</table>\n",
       "</div>"
      ],
      "text/plain": [
       "                 Tag\n",
       "Id                  \n",
       "12184050         wpf\n",
       "10025730  javascript\n",
       "24535430         c++"
      ]
     },
     "execution_count": 138,
     "metadata": {},
     "output_type": "execute_result"
    }
   ],
   "source": [
    "tags.sample(3)"
   ]
  },
  {
   "cell_type": "code",
   "execution_count": 139,
   "metadata": {},
   "outputs": [
    {
     "data": {
      "text/html": [
       "<div>\n",
       "<style scoped>\n",
       "    .dataframe tbody tr th:only-of-type {\n",
       "        vertical-align: middle;\n",
       "    }\n",
       "\n",
       "    .dataframe tbody tr th {\n",
       "        vertical-align: top;\n",
       "    }\n",
       "\n",
       "    .dataframe thead th {\n",
       "        text-align: right;\n",
       "    }\n",
       "</style>\n",
       "<table border=\"1\" class=\"dataframe\">\n",
       "  <thead>\n",
       "    <tr style=\"text-align: right;\">\n",
       "      <th></th>\n",
       "      <th>OwnerUserId</th>\n",
       "      <th>CreationDate</th>\n",
       "      <th>ClosedDate</th>\n",
       "      <th>Score</th>\n",
       "      <th>Title</th>\n",
       "      <th>Body</th>\n",
       "    </tr>\n",
       "    <tr>\n",
       "      <th>Id</th>\n",
       "      <th></th>\n",
       "      <th></th>\n",
       "      <th></th>\n",
       "      <th></th>\n",
       "      <th></th>\n",
       "      <th></th>\n",
       "    </tr>\n",
       "  </thead>\n",
       "  <tbody>\n",
       "    <tr>\n",
       "      <th>37998770</th>\n",
       "      <td>5444726.0</td>\n",
       "      <td>2016-06-23T18:03:32Z</td>\n",
       "      <td>NaN</td>\n",
       "      <td>0</td>\n",
       "      <td>found hosting page virtualhost ubuntu</td>\n",
       "      <td>trying host webpage apache ubuntu platform usi...</td>\n",
       "    </tr>\n",
       "    <tr>\n",
       "      <th>26391770</th>\n",
       "      <td>1910724.0</td>\n",
       "      <td>2014-10-15T20:43:23Z</td>\n",
       "      <td>NaN</td>\n",
       "      <td>3</td>\n",
       "      <td>ontouchevent surfaceview called seconds delayed</td>\n",
       "      <td>simple game surfaceview sometimes game respond...</td>\n",
       "    </tr>\n",
       "    <tr>\n",
       "      <th>21265380</th>\n",
       "      <td>3211802.0</td>\n",
       "      <td>2014-01-21T17:42:53Z</td>\n",
       "      <td>NaN</td>\n",
       "      <td>-2</td>\n",
       "      <td>hadoop grep command</td>\n",
       "      <td>one tell following grep command bin hadoop jar...</td>\n",
       "    </tr>\n",
       "  </tbody>\n",
       "</table>\n",
       "</div>"
      ],
      "text/plain": [
       "          OwnerUserId          CreationDate ClosedDate  Score  \\\n",
       "Id                                                              \n",
       "37998770    5444726.0  2016-06-23T18:03:32Z        NaN      0   \n",
       "26391770    1910724.0  2014-10-15T20:43:23Z        NaN      3   \n",
       "21265380    3211802.0  2014-01-21T17:42:53Z        NaN     -2   \n",
       "\n",
       "                                                    Title  \\\n",
       "Id                                                          \n",
       "37998770            found hosting page virtualhost ubuntu   \n",
       "26391770  ontouchevent surfaceview called seconds delayed   \n",
       "21265380                              hadoop grep command   \n",
       "\n",
       "                                                       Body  \n",
       "Id                                                           \n",
       "37998770  trying host webpage apache ubuntu platform usi...  \n",
       "26391770  simple game surfaceview sometimes game respond...  \n",
       "21265380  one tell following grep command bin hadoop jar...  "
      ]
     },
     "execution_count": 139,
     "metadata": {},
     "output_type": "execute_result"
    }
   ],
   "source": [
    "questions.sample(3)"
   ]
  },
  {
   "cell_type": "markdown",
   "metadata": {},
   "source": [
    "## Evaluating a user based on their Questions\n",
    "\n",
    "In this Section, we use the data from questions and tags datasets to create two matrecies of users. The two matrices are:\n",
    "* A matrix containing total Scoring statistics\n",
    "* A matrix keeping track of total Questions asked by user per category"
   ]
  },
  {
   "cell_type": "code",
   "execution_count": 33,
   "metadata": {},
   "outputs": [
    {
     "data": {
      "text/html": [
       "<div>\n",
       "<style scoped>\n",
       "    .dataframe tbody tr th:only-of-type {\n",
       "        vertical-align: middle;\n",
       "    }\n",
       "\n",
       "    .dataframe tbody tr th {\n",
       "        vertical-align: top;\n",
       "    }\n",
       "\n",
       "    .dataframe thead th {\n",
       "        text-align: right;\n",
       "    }\n",
       "</style>\n",
       "<table border=\"1\" class=\"dataframe\">\n",
       "  <thead>\n",
       "    <tr style=\"text-align: right;\">\n",
       "      <th></th>\n",
       "      <th>flex</th>\n",
       "      <th>actionscript-3</th>\n",
       "      <th>svn</th>\n",
       "      <th>sql</th>\n",
       "      <th>asp.net</th>\n",
       "      <th>algorithm</th>\n",
       "      <th>colors</th>\n",
       "      <th>c#</th>\n",
       "      <th>.net</th>\n",
       "      <th>c++</th>\n",
       "      <th>...</th>\n",
       "      <th>meteor</th>\n",
       "      <th>laravel</th>\n",
       "      <th>firebase</th>\n",
       "      <th>parse.com</th>\n",
       "      <th>typescript</th>\n",
       "      <th>docker</th>\n",
       "      <th>apache-spark</th>\n",
       "      <th>reactjs</th>\n",
       "      <th>spring-boot</th>\n",
       "      <th>ionic-framework</th>\n",
       "    </tr>\n",
       "    <tr>\n",
       "      <th>Id</th>\n",
       "      <th></th>\n",
       "      <th></th>\n",
       "      <th></th>\n",
       "      <th></th>\n",
       "      <th></th>\n",
       "      <th></th>\n",
       "      <th></th>\n",
       "      <th></th>\n",
       "      <th></th>\n",
       "      <th></th>\n",
       "      <th></th>\n",
       "      <th></th>\n",
       "      <th></th>\n",
       "      <th></th>\n",
       "      <th></th>\n",
       "      <th></th>\n",
       "      <th></th>\n",
       "      <th></th>\n",
       "      <th></th>\n",
       "      <th></th>\n",
       "      <th></th>\n",
       "    </tr>\n",
       "  </thead>\n",
       "  <tbody>\n",
       "    <tr>\n",
       "      <th>26.0</th>\n",
       "      <td>0.0</td>\n",
       "      <td>0.0</td>\n",
       "      <td>0.0</td>\n",
       "      <td>0.0</td>\n",
       "      <td>0.0</td>\n",
       "      <td>0.0</td>\n",
       "      <td>0.0</td>\n",
       "      <td>0.0</td>\n",
       "      <td>0.0</td>\n",
       "      <td>0.0</td>\n",
       "      <td>...</td>\n",
       "      <td>0.0</td>\n",
       "      <td>0.0</td>\n",
       "      <td>0.0</td>\n",
       "      <td>0.0</td>\n",
       "      <td>0.0</td>\n",
       "      <td>0.0</td>\n",
       "      <td>0.0</td>\n",
       "      <td>0.0</td>\n",
       "      <td>0.0</td>\n",
       "      <td>0.0</td>\n",
       "    </tr>\n",
       "    <tr>\n",
       "      <th>58.0</th>\n",
       "      <td>0.0</td>\n",
       "      <td>0.0</td>\n",
       "      <td>0.0</td>\n",
       "      <td>0.0</td>\n",
       "      <td>0.0</td>\n",
       "      <td>0.0</td>\n",
       "      <td>0.0</td>\n",
       "      <td>0.0</td>\n",
       "      <td>0.0</td>\n",
       "      <td>0.0</td>\n",
       "      <td>...</td>\n",
       "      <td>0.0</td>\n",
       "      <td>0.0</td>\n",
       "      <td>0.0</td>\n",
       "      <td>0.0</td>\n",
       "      <td>0.0</td>\n",
       "      <td>0.0</td>\n",
       "      <td>0.0</td>\n",
       "      <td>0.0</td>\n",
       "      <td>0.0</td>\n",
       "      <td>0.0</td>\n",
       "    </tr>\n",
       "  </tbody>\n",
       "</table>\n",
       "<p>2 rows × 362 columns</p>\n",
       "</div>"
      ],
      "text/plain": [
       "      flex  actionscript-3  svn  sql  asp.net  algorithm  colors   c#  .net  \\\n",
       "Id                                                                            \n",
       "26.0   0.0             0.0  0.0  0.0      0.0        0.0     0.0  0.0   0.0   \n",
       "58.0   0.0             0.0  0.0  0.0      0.0        0.0     0.0  0.0   0.0   \n",
       "\n",
       "      c++       ...         meteor  laravel  firebase  parse.com  typescript  \\\n",
       "Id              ...                                                            \n",
       "26.0  0.0       ...            0.0      0.0       0.0        0.0         0.0   \n",
       "58.0  0.0       ...            0.0      0.0       0.0        0.0         0.0   \n",
       "\n",
       "      docker  apache-spark  reactjs  spring-boot  ionic-framework  \n",
       "Id                                                                 \n",
       "26.0     0.0           0.0      0.0          0.0              0.0  \n",
       "58.0     0.0           0.0      0.0          0.0              0.0  \n",
       "\n",
       "[2 rows x 362 columns]"
      ]
     },
     "execution_count": 33,
     "metadata": {},
     "output_type": "execute_result"
    }
   ],
   "source": [
    "user_scores = pd.DataFrame(np.zeros((len(questions['OwnerUserId'].unique()), len(tags['Tag'].unique()))),index=questions['OwnerUserId'].unique(), columns=tags['Tag'].unique())\n",
    "user_questions = pd.DataFrame(np.zeros((len(questions['OwnerUserId'].unique()), len(tags['Tag'].unique()))),index=questions['OwnerUserId'].unique(), columns=tags['Tag'].unique())\n",
    "user_scores.index.name = 'Id'\n",
    "user_questions.index.name = 'Id'\n",
    "user_scores.head(2)"
   ]
  },
  {
   "cell_type": "code",
   "execution_count": 82,
   "metadata": {},
   "outputs": [
    {
     "data": {
      "text/html": [
       "<div>\n",
       "<style scoped>\n",
       "    .dataframe tbody tr th:only-of-type {\n",
       "        vertical-align: middle;\n",
       "    }\n",
       "\n",
       "    .dataframe tbody tr th {\n",
       "        vertical-align: top;\n",
       "    }\n",
       "\n",
       "    .dataframe thead th {\n",
       "        text-align: right;\n",
       "    }\n",
       "</style>\n",
       "<table border=\"1\" class=\"dataframe\">\n",
       "  <thead>\n",
       "    <tr style=\"text-align: right;\">\n",
       "      <th></th>\n",
       "      <th>OwnerUserId</th>\n",
       "      <th>CreationDate</th>\n",
       "      <th>ClosedDate</th>\n",
       "      <th>Score</th>\n",
       "      <th>Title</th>\n",
       "      <th>Body</th>\n",
       "      <th>Tag</th>\n",
       "    </tr>\n",
       "    <tr>\n",
       "      <th>Id</th>\n",
       "      <th></th>\n",
       "      <th></th>\n",
       "      <th></th>\n",
       "      <th></th>\n",
       "      <th></th>\n",
       "      <th></th>\n",
       "      <th></th>\n",
       "    </tr>\n",
       "  </thead>\n",
       "  <tbody>\n",
       "    <tr>\n",
       "      <th>250970</th>\n",
       "      <td>80.0</td>\n",
       "      <td>2008-10-30T17:09:55Z</td>\n",
       "      <td>NaN</td>\n",
       "      <td>3</td>\n",
       "      <td>detect error object support property methodâ</td>\n",
       "      <td>object iâ working instantiated javascript used...</td>\n",
       "      <td>vbscript</td>\n",
       "    </tr>\n",
       "    <tr>\n",
       "      <th>250970</th>\n",
       "      <td>80.0</td>\n",
       "      <td>2008-10-30T17:09:55Z</td>\n",
       "      <td>NaN</td>\n",
       "      <td>3</td>\n",
       "      <td>detect error object support property methodâ</td>\n",
       "      <td>object iâ working instantiated javascript used...</td>\n",
       "      <td>error-handling</td>\n",
       "    </tr>\n",
       "    <tr>\n",
       "      <th>1046810</th>\n",
       "      <td>80.0</td>\n",
       "      <td>2009-06-26T00:18:39Z</td>\n",
       "      <td>NaN</td>\n",
       "      <td>31</td>\n",
       "      <td>using jslint notepad</td>\n",
       "      <td>seen text editors use extensions allow syntax ...</td>\n",
       "      <td>javascript</td>\n",
       "    </tr>\n",
       "  </tbody>\n",
       "</table>\n",
       "</div>"
      ],
      "text/plain": [
       "         OwnerUserId          CreationDate ClosedDate  Score  \\\n",
       "Id                                                             \n",
       "250970          80.0  2008-10-30T17:09:55Z        NaN      3   \n",
       "250970          80.0  2008-10-30T17:09:55Z        NaN      3   \n",
       "1046810         80.0  2009-06-26T00:18:39Z        NaN     31   \n",
       "\n",
       "                                                Title  \\\n",
       "Id                                                      \n",
       "250970   detect error object support property methodâ   \n",
       "250970   detect error object support property methodâ   \n",
       "1046810                          using jslint notepad   \n",
       "\n",
       "                                                      Body             Tag  \n",
       "Id                                                                          \n",
       "250970   object iâ working instantiated javascript used...        vbscript  \n",
       "250970   object iâ working instantiated javascript used...  error-handling  \n",
       "1046810  seen text editors use extensions allow syntax ...      javascript  "
      ]
     },
     "execution_count": 82,
     "metadata": {},
     "output_type": "execute_result"
    }
   ],
   "source": [
    "questions[questions['OwnerUserId']== 80].set_index('Id').join(tags.set_index('Id'))"
   ]
  },
  {
   "cell_type": "markdown",
   "metadata": {},
   "source": [
    "Number of users we will begin dealing with"
   ]
  },
  {
   "cell_type": "code",
   "execution_count": 35,
   "metadata": {},
   "outputs": [
    {
     "name": "stdout",
     "output_type": "stream",
     "text": [
      "592057 592057 592057\n"
     ]
    }
   ],
   "source": [
    "print(len(user_scores.index.unique()),len(user_questions.index.unique()), len(questions['OwnerUserId'].unique()))"
   ]
  },
  {
   "cell_type": "markdown",
   "metadata": {},
   "source": [
    "To make sure all tag ids trace back to at least one question"
   ]
  },
  {
   "cell_type": "code",
   "execution_count": 38,
   "metadata": {},
   "outputs": [
    {
     "name": "stdout",
     "output_type": "stream",
     "text": [
      "2414518 2414518\n"
     ]
    }
   ],
   "source": [
    "print(len(tags[tags['Id'].isin(questions['Id'])]), len(tags))"
   ]
  },
  {
   "cell_type": "markdown",
   "metadata": {},
   "source": [
    "Number of questions we will be dealing with"
   ]
  },
  {
   "cell_type": "code",
   "execution_count": 39,
   "metadata": {},
   "outputs": [
    {
     "data": {
      "text/plain": [
       "1173725"
      ]
     },
     "execution_count": 39,
     "metadata": {},
     "output_type": "execute_result"
    }
   ],
   "source": [
    "len(questions)"
   ]
  },
  {
   "cell_type": "markdown",
   "metadata": {},
   "source": [
    "The amount of questions which have just a 0 score. For this exercise, we will be treating as having a score of one, becasue dropping these would drop about a fifth of our data"
   ]
  },
  {
   "cell_type": "code",
   "execution_count": 40,
   "metadata": {},
   "outputs": [
    {
     "data": {
      "text/plain": [
       "546681"
      ]
     },
     "execution_count": 40,
     "metadata": {},
     "output_type": "execute_result"
    }
   ],
   "source": [
    "len(questions[questions['Score'] == 0])"
   ]
  },
  {
   "cell_type": "markdown",
   "metadata": {},
   "source": [
    "## Populating the matrices\n",
    "\n",
    "This loop iterates through our dataset and adds \n",
    "1. 1 to each tag, *per tag per question* to the asker's row\n",
    "2. The maximum of (1,Score) *per tag per question* to the asker's row. The max serves to treat 0 scores as 1\n",
    "\n",
    "If score is less than 0, do nothing"
   ]
  },
  {
   "cell_type": "code",
   "execution_count": null,
   "metadata": {},
   "outputs": [],
   "source": [
    "for question_index, question in questions.iterrows():\n",
    "    if question_index % 11_737 == 0:\n",
    "        print(question_index / 11_737, '%')\n",
    "    if question['Score'] < 0:\n",
    "        continue\n",
    "    question_tags = tags[tags['Id'] == question['Id']]\n",
    "    for tag_index,tag in question_tags.iterrows():\n",
    "        user_questions.at[question['OwnerUserId'],tag['Tag']] += 1\n",
    "        user_scores.at[question['OwnerUserId'],tag['Tag']] += max(question['Score'],1)"
   ]
  },
  {
   "cell_type": "code",
   "execution_count": 47,
   "metadata": {},
   "outputs": [
    {
     "data": {
      "text/html": [
       "<div>\n",
       "<style scoped>\n",
       "    .dataframe tbody tr th:only-of-type {\n",
       "        vertical-align: middle;\n",
       "    }\n",
       "\n",
       "    .dataframe tbody tr th {\n",
       "        vertical-align: top;\n",
       "    }\n",
       "\n",
       "    .dataframe thead th {\n",
       "        text-align: right;\n",
       "    }\n",
       "</style>\n",
       "<table border=\"1\" class=\"dataframe\">\n",
       "  <thead>\n",
       "    <tr style=\"text-align: right;\">\n",
       "      <th></th>\n",
       "      <th>.net</th>\n",
       "      <th>actionscript-3</th>\n",
       "      <th>angularjs</th>\n",
       "      <th>asp.net</th>\n",
       "      <th>c#</th>\n",
       "      <th>cookies</th>\n",
       "      <th>css</th>\n",
       "      <th>date</th>\n",
       "      <th>flash</th>\n",
       "      <th>flex</th>\n",
       "      <th>generics</th>\n",
       "      <th>html</th>\n",
       "      <th>javascript</th>\n",
       "      <th>session</th>\n",
       "      <th>sqlite</th>\n",
       "      <th>tsql</th>\n",
       "      <th>vb.net</th>\n",
       "      <th>web-services</th>\n",
       "      <th>xml</th>\n",
       "    </tr>\n",
       "    <tr>\n",
       "      <th>Id</th>\n",
       "      <th></th>\n",
       "      <th></th>\n",
       "      <th></th>\n",
       "      <th></th>\n",
       "      <th></th>\n",
       "      <th></th>\n",
       "      <th></th>\n",
       "      <th></th>\n",
       "      <th></th>\n",
       "      <th></th>\n",
       "      <th></th>\n",
       "      <th></th>\n",
       "      <th></th>\n",
       "      <th></th>\n",
       "      <th></th>\n",
       "      <th></th>\n",
       "      <th></th>\n",
       "      <th></th>\n",
       "      <th></th>\n",
       "    </tr>\n",
       "  </thead>\n",
       "  <tbody>\n",
       "    <tr>\n",
       "      <th>26.0</th>\n",
       "      <td>6.0</td>\n",
       "      <td>26.0</td>\n",
       "      <td>2.0</td>\n",
       "      <td>4.0</td>\n",
       "      <td>18.0</td>\n",
       "      <td>6.0</td>\n",
       "      <td>10.0</td>\n",
       "      <td>1.0</td>\n",
       "      <td>1.0</td>\n",
       "      <td>30.0</td>\n",
       "      <td>2.0</td>\n",
       "      <td>10.0</td>\n",
       "      <td>4.0</td>\n",
       "      <td>6.0</td>\n",
       "      <td>1.0</td>\n",
       "      <td>1.0</td>\n",
       "      <td>1.0</td>\n",
       "      <td>4.0</td>\n",
       "      <td>4.0</td>\n",
       "    </tr>\n",
       "    <tr>\n",
       "      <th>58.0</th>\n",
       "      <td>0.0</td>\n",
       "      <td>0.0</td>\n",
       "      <td>0.0</td>\n",
       "      <td>0.0</td>\n",
       "      <td>0.0</td>\n",
       "      <td>0.0</td>\n",
       "      <td>0.0</td>\n",
       "      <td>0.0</td>\n",
       "      <td>0.0</td>\n",
       "      <td>0.0</td>\n",
       "      <td>0.0</td>\n",
       "      <td>0.0</td>\n",
       "      <td>0.0</td>\n",
       "      <td>0.0</td>\n",
       "      <td>0.0</td>\n",
       "      <td>0.0</td>\n",
       "      <td>0.0</td>\n",
       "      <td>0.0</td>\n",
       "      <td>0.0</td>\n",
       "    </tr>\n",
       "    <tr>\n",
       "      <th>83.0</th>\n",
       "      <td>89.0</td>\n",
       "      <td>0.0</td>\n",
       "      <td>0.0</td>\n",
       "      <td>65.0</td>\n",
       "      <td>6.0</td>\n",
       "      <td>0.0</td>\n",
       "      <td>0.0</td>\n",
       "      <td>0.0</td>\n",
       "      <td>0.0</td>\n",
       "      <td>0.0</td>\n",
       "      <td>2.0</td>\n",
       "      <td>0.0</td>\n",
       "      <td>1.0</td>\n",
       "      <td>0.0</td>\n",
       "      <td>0.0</td>\n",
       "      <td>1.0</td>\n",
       "      <td>44.0</td>\n",
       "      <td>0.0</td>\n",
       "      <td>0.0</td>\n",
       "    </tr>\n",
       "  </tbody>\n",
       "</table>\n",
       "</div>"
      ],
      "text/plain": [
       "      .net  actionscript-3  angularjs  asp.net    c#  cookies   css  date  \\\n",
       "Id                                                                          \n",
       "26.0   6.0            26.0        2.0      4.0  18.0      6.0  10.0   1.0   \n",
       "58.0   0.0             0.0        0.0      0.0   0.0      0.0   0.0   0.0   \n",
       "83.0  89.0             0.0        0.0     65.0   6.0      0.0   0.0   0.0   \n",
       "\n",
       "      flash  flex  generics  html  javascript  session  sqlite  tsql  vb.net  \\\n",
       "Id                                                                             \n",
       "26.0    1.0  30.0       2.0  10.0         4.0      6.0     1.0   1.0     1.0   \n",
       "58.0    0.0   0.0       0.0   0.0         0.0      0.0     0.0   0.0     0.0   \n",
       "83.0    0.0   0.0       2.0   0.0         1.0      0.0     0.0   1.0    44.0   \n",
       "\n",
       "      web-services  xml  \n",
       "Id                       \n",
       "26.0           4.0  4.0  \n",
       "58.0           0.0  0.0  \n",
       "83.0           0.0  0.0  "
      ]
     },
     "execution_count": 47,
     "metadata": {},
     "output_type": "execute_result"
    }
   ],
   "source": [
    "user_scores.head(3).loc[:,['.net','actionscript-3', 'angularjs', 'asp.net', 'c#', 'cookies','css', 'date', 'flash', 'flex', 'generics','html', 'javascript', 'session', 'sqlite', 'tsql',  'vb.net', 'web-services', 'xml']]"
   ]
  },
  {
   "cell_type": "code",
   "execution_count": 48,
   "metadata": {},
   "outputs": [
    {
     "data": {
      "text/html": [
       "<div>\n",
       "<style scoped>\n",
       "    .dataframe tbody tr th:only-of-type {\n",
       "        vertical-align: middle;\n",
       "    }\n",
       "\n",
       "    .dataframe tbody tr th {\n",
       "        vertical-align: top;\n",
       "    }\n",
       "\n",
       "    .dataframe thead th {\n",
       "        text-align: right;\n",
       "    }\n",
       "</style>\n",
       "<table border=\"1\" class=\"dataframe\">\n",
       "  <thead>\n",
       "    <tr style=\"text-align: right;\">\n",
       "      <th></th>\n",
       "      <th>.net</th>\n",
       "      <th>actionscript-3</th>\n",
       "      <th>angularjs</th>\n",
       "      <th>asp.net</th>\n",
       "      <th>c#</th>\n",
       "      <th>cookies</th>\n",
       "      <th>css</th>\n",
       "      <th>date</th>\n",
       "      <th>flash</th>\n",
       "      <th>flex</th>\n",
       "      <th>generics</th>\n",
       "      <th>html</th>\n",
       "      <th>javascript</th>\n",
       "      <th>session</th>\n",
       "      <th>sqlite</th>\n",
       "      <th>tsql</th>\n",
       "      <th>vb.net</th>\n",
       "      <th>web-services</th>\n",
       "      <th>xml</th>\n",
       "    </tr>\n",
       "    <tr>\n",
       "      <th>Id</th>\n",
       "      <th></th>\n",
       "      <th></th>\n",
       "      <th></th>\n",
       "      <th></th>\n",
       "      <th></th>\n",
       "      <th></th>\n",
       "      <th></th>\n",
       "      <th></th>\n",
       "      <th></th>\n",
       "      <th></th>\n",
       "      <th></th>\n",
       "      <th></th>\n",
       "      <th></th>\n",
       "      <th></th>\n",
       "      <th></th>\n",
       "      <th></th>\n",
       "      <th></th>\n",
       "      <th></th>\n",
       "      <th></th>\n",
       "    </tr>\n",
       "  </thead>\n",
       "  <tbody>\n",
       "    <tr>\n",
       "      <th>26.0</th>\n",
       "      <td>1.0</td>\n",
       "      <td>1.0</td>\n",
       "      <td>1.0</td>\n",
       "      <td>4.0</td>\n",
       "      <td>3.0</td>\n",
       "      <td>1.0</td>\n",
       "      <td>1.0</td>\n",
       "      <td>1.0</td>\n",
       "      <td>1.0</td>\n",
       "      <td>3.0</td>\n",
       "      <td>1.0</td>\n",
       "      <td>1.0</td>\n",
       "      <td>1.0</td>\n",
       "      <td>1.0</td>\n",
       "      <td>1.0</td>\n",
       "      <td>1.0</td>\n",
       "      <td>1.0</td>\n",
       "      <td>1.0</td>\n",
       "      <td>1.0</td>\n",
       "    </tr>\n",
       "    <tr>\n",
       "      <th>58.0</th>\n",
       "      <td>0.0</td>\n",
       "      <td>0.0</td>\n",
       "      <td>0.0</td>\n",
       "      <td>0.0</td>\n",
       "      <td>0.0</td>\n",
       "      <td>0.0</td>\n",
       "      <td>0.0</td>\n",
       "      <td>0.0</td>\n",
       "      <td>0.0</td>\n",
       "      <td>0.0</td>\n",
       "      <td>0.0</td>\n",
       "      <td>0.0</td>\n",
       "      <td>0.0</td>\n",
       "      <td>0.0</td>\n",
       "      <td>0.0</td>\n",
       "      <td>0.0</td>\n",
       "      <td>0.0</td>\n",
       "      <td>0.0</td>\n",
       "      <td>0.0</td>\n",
       "    </tr>\n",
       "    <tr>\n",
       "      <th>83.0</th>\n",
       "      <td>9.0</td>\n",
       "      <td>0.0</td>\n",
       "      <td>0.0</td>\n",
       "      <td>6.0</td>\n",
       "      <td>1.0</td>\n",
       "      <td>0.0</td>\n",
       "      <td>0.0</td>\n",
       "      <td>0.0</td>\n",
       "      <td>0.0</td>\n",
       "      <td>0.0</td>\n",
       "      <td>1.0</td>\n",
       "      <td>0.0</td>\n",
       "      <td>1.0</td>\n",
       "      <td>0.0</td>\n",
       "      <td>0.0</td>\n",
       "      <td>1.0</td>\n",
       "      <td>3.0</td>\n",
       "      <td>0.0</td>\n",
       "      <td>0.0</td>\n",
       "    </tr>\n",
       "  </tbody>\n",
       "</table>\n",
       "</div>"
      ],
      "text/plain": [
       "      .net  actionscript-3  angularjs  asp.net   c#  cookies  css  date  \\\n",
       "Id                                                                        \n",
       "26.0   1.0             1.0        1.0      4.0  3.0      1.0  1.0   1.0   \n",
       "58.0   0.0             0.0        0.0      0.0  0.0      0.0  0.0   0.0   \n",
       "83.0   9.0             0.0        0.0      6.0  1.0      0.0  0.0   0.0   \n",
       "\n",
       "      flash  flex  generics  html  javascript  session  sqlite  tsql  vb.net  \\\n",
       "Id                                                                             \n",
       "26.0    1.0   3.0       1.0   1.0         1.0      1.0     1.0   1.0     1.0   \n",
       "58.0    0.0   0.0       0.0   0.0         0.0      0.0     0.0   0.0     0.0   \n",
       "83.0    0.0   0.0       1.0   0.0         1.0      0.0     0.0   1.0     3.0   \n",
       "\n",
       "      web-services  xml  \n",
       "Id                       \n",
       "26.0           1.0  1.0  \n",
       "58.0           0.0  0.0  \n",
       "83.0           0.0  0.0  "
      ]
     },
     "execution_count": 48,
     "metadata": {},
     "output_type": "execute_result"
    }
   ],
   "source": [
    "user_questions.head(3).loc[:,['.net','actionscript-3', 'angularjs', 'asp.net', 'c#', 'cookies','css', 'date', 'flash', 'flex', 'generics','html', 'javascript', 'session', 'sqlite', 'tsql',  'vb.net', 'web-services', 'xml']]"
   ]
  },
  {
   "cell_type": "code",
   "execution_count": 50,
   "metadata": {},
   "outputs": [],
   "source": [
    "user_scores.to_csv(\"../profiles/question_scores.csv\",encoding=\"latin1\",index='Id', )\n",
    "user_questions.to_csv(\"../profiles/question_counts.csv\",encoding=\"latin1\",index='Id')"
   ]
  },
  {
   "cell_type": "markdown",
   "metadata": {},
   "source": [
    "## Mapping User Score data and User question count data into a profile"
   ]
  },
  {
   "cell_type": "code",
   "execution_count": 72,
   "metadata": {},
   "outputs": [],
   "source": [
    "user_scores = pd.read_csv(\"../profiles/question_scores.csv\",encoding=\"latin1\",index_col='Id')\n",
    "user_questions = pd.read_csv(\"../profiles/question_counts.csv\",encoding=\"latin1\",index_col='Id')"
   ]
  },
  {
   "cell_type": "markdown",
   "metadata": {},
   "source": [
    "### Treating users with all negative scores\n",
    "For this exercise, we will dispose those users' questions from the question and tag datasets"
   ]
  },
  {
   "cell_type": "code",
   "execution_count": null,
   "metadata": {},
   "outputs": [],
   "source": [
    "bad_users = user_scores.loc[(user_scores==0).all(axis=1)]"
   ]
  },
  {
   "cell_type": "code",
   "execution_count": null,
   "metadata": {},
   "outputs": [],
   "source": [
    "tags = pd.read_csv(\"../input/Tags_Filtered.csv\", encoding='latin1',index_col='Id')\n",
    "questions = pd.read_csv(\"../input/Questions_Filtered.csv\",encoding=\"latin1\",index_col='Id')"
   ]
  },
  {
   "cell_type": "code",
   "execution_count": 80,
   "metadata": {},
   "outputs": [
    {
     "data": {
      "text/html": [
       "<div>\n",
       "<style scoped>\n",
       "    .dataframe tbody tr th:only-of-type {\n",
       "        vertical-align: middle;\n",
       "    }\n",
       "\n",
       "    .dataframe tbody tr th {\n",
       "        vertical-align: top;\n",
       "    }\n",
       "\n",
       "    .dataframe thead th {\n",
       "        text-align: right;\n",
       "    }\n",
       "</style>\n",
       "<table border=\"1\" class=\"dataframe\">\n",
       "  <thead>\n",
       "    <tr style=\"text-align: right;\">\n",
       "      <th></th>\n",
       "      <th>OwnerUserId</th>\n",
       "      <th>CreationDate</th>\n",
       "      <th>ClosedDate</th>\n",
       "      <th>Score</th>\n",
       "      <th>Title</th>\n",
       "      <th>Body</th>\n",
       "      <th>Tag</th>\n",
       "    </tr>\n",
       "    <tr>\n",
       "      <th>Id</th>\n",
       "      <th></th>\n",
       "      <th></th>\n",
       "      <th></th>\n",
       "      <th></th>\n",
       "      <th></th>\n",
       "      <th></th>\n",
       "      <th></th>\n",
       "    </tr>\n",
       "  </thead>\n",
       "  <tbody>\n",
       "    <tr>\n",
       "      <th>204970</th>\n",
       "      <td>25778.0</td>\n",
       "      <td>2008-10-15T14:40:11Z</td>\n",
       "      <td>NaN</td>\n",
       "      <td>-3</td>\n",
       "      <td>split string fixed character sequence</td>\n",
       "      <td>suppose following string string asd test ass t...</td>\n",
       "      <td>java</td>\n",
       "    </tr>\n",
       "    <tr>\n",
       "      <th>204970</th>\n",
       "      <td>25778.0</td>\n",
       "      <td>2008-10-15T14:40:11Z</td>\n",
       "      <td>NaN</td>\n",
       "      <td>-3</td>\n",
       "      <td>split string fixed character sequence</td>\n",
       "      <td>suppose following string string asd test ass t...</td>\n",
       "      <td>string</td>\n",
       "    </tr>\n",
       "  </tbody>\n",
       "</table>\n",
       "</div>"
      ],
      "text/plain": [
       "        OwnerUserId          CreationDate ClosedDate  Score  \\\n",
       "Id                                                            \n",
       "204970      25778.0  2008-10-15T14:40:11Z        NaN     -3   \n",
       "204970      25778.0  2008-10-15T14:40:11Z        NaN     -3   \n",
       "\n",
       "                                        Title  \\\n",
       "Id                                              \n",
       "204970  split string fixed character sequence   \n",
       "204970  split string fixed character sequence   \n",
       "\n",
       "                                                     Body     Tag  \n",
       "Id                                                                 \n",
       "204970  suppose following string string asd test ass t...    java  \n",
       "204970  suppose following string string asd test ass t...  string  "
      ]
     },
     "execution_count": 80,
     "metadata": {},
     "output_type": "execute_result"
    }
   ],
   "source": [
    "questions[questions['OwnerUserId']== 25778].set_index('Id').join(tags.set_index('Id'))"
   ]
  },
  {
   "cell_type": "code",
   "execution_count": 84,
   "metadata": {},
   "outputs": [],
   "source": [
    "questions = questions[~questions['OwnerUserId'].isin(bad_users)]\n",
    "tags = tags[~tags['Id'].isin(questions['Id'].tolist())]"
   ]
  },
  {
   "cell_type": "code",
   "execution_count": 88,
   "metadata": {},
   "outputs": [],
   "source": [
    "tags = tags.to_csv(\"../input/Tags_Filtered.csv\", encoding='latin1',index=False)\n",
    "questions = questions.to_csv(\"../input/Questions_Filtered.csv\",encoding=\"latin1\",index=False)"
   ]
  },
  {
   "cell_type": "code",
   "execution_count": 89,
   "metadata": {},
   "outputs": [],
   "source": [
    "user_scores = user_scores.loc[~(user_scores==0).all(axis=1)]\n",
    "user_questions = user_questions.loc[~(user_questions==0).all(axis=1)]"
   ]
  },
  {
   "cell_type": "code",
   "execution_count": 95,
   "metadata": {},
   "outputs": [
    {
     "name": "stdout",
     "output_type": "stream",
     "text": [
      "553866 553866\n"
     ]
    }
   ],
   "source": [
    "print(len(user_scores), len(user_questions))"
   ]
  },
  {
   "cell_type": "markdown",
   "metadata": {},
   "source": [
    "## Now that we've gotten rid of bad users, we are ready to generate profiles for them"
   ]
  },
  {
   "cell_type": "markdown",
   "metadata": {},
   "source": [
    "### We will normalize a user's question count here"
   ]
  },
  {
   "cell_type": "code",
   "execution_count": 20,
   "metadata": {},
   "outputs": [],
   "source": [
    "user_scores = pd.read_csv(\"../profiles/question_scores.csv\",encoding=\"latin1\",index_col='Id' )\n",
    "user_questions = pd.read_csv(\"../profiles/question_counts.csv\",encoding=\"latin1\",index_col='Id')"
   ]
  },
  {
   "cell_type": "code",
   "execution_count": 42,
   "metadata": {},
   "outputs": [],
   "source": [
    "bad_users = user_scores[user_scores.sum(axis=1) == 0].index\n",
    "user_scores = user_scores[~user_scores.index.isin(bad_users)]\n",
    "user_questions = user_questions[~user_questions.index.isin(bad_users)]"
   ]
  },
  {
   "cell_type": "code",
   "execution_count": 46,
   "metadata": {},
   "outputs": [
    {
     "data": {
      "text/plain": [
       "True"
      ]
     },
     "execution_count": 46,
     "metadata": {},
     "output_type": "execute_result"
    }
   ],
   "source": [
    "user_questions_index.shape == user_scores.shape"
   ]
  },
  {
   "cell_type": "code",
   "execution_count": 44,
   "metadata": {},
   "outputs": [
    {
     "data": {
      "text/html": [
       "<div>\n",
       "<style scoped>\n",
       "    .dataframe tbody tr th:only-of-type {\n",
       "        vertical-align: middle;\n",
       "    }\n",
       "\n",
       "    .dataframe tbody tr th {\n",
       "        vertical-align: top;\n",
       "    }\n",
       "\n",
       "    .dataframe thead th {\n",
       "        text-align: right;\n",
       "    }\n",
       "</style>\n",
       "<table border=\"1\" class=\"dataframe\">\n",
       "  <thead>\n",
       "    <tr style=\"text-align: right;\">\n",
       "      <th></th>\n",
       "      <th>flex</th>\n",
       "      <th>actionscript-3</th>\n",
       "      <th>svn</th>\n",
       "      <th>sql</th>\n",
       "      <th>asp.net</th>\n",
       "      <th>algorithm</th>\n",
       "      <th>colors</th>\n",
       "      <th>c#</th>\n",
       "      <th>.net</th>\n",
       "      <th>c++</th>\n",
       "      <th>...</th>\n",
       "      <th>meteor</th>\n",
       "      <th>laravel</th>\n",
       "      <th>firebase</th>\n",
       "      <th>parse.com</th>\n",
       "      <th>typescript</th>\n",
       "      <th>docker</th>\n",
       "      <th>apache-spark</th>\n",
       "      <th>reactjs</th>\n",
       "      <th>spring-boot</th>\n",
       "      <th>ionic-framework</th>\n",
       "    </tr>\n",
       "    <tr>\n",
       "      <th>Id</th>\n",
       "      <th></th>\n",
       "      <th></th>\n",
       "      <th></th>\n",
       "      <th></th>\n",
       "      <th></th>\n",
       "      <th></th>\n",
       "      <th></th>\n",
       "      <th></th>\n",
       "      <th></th>\n",
       "      <th></th>\n",
       "      <th></th>\n",
       "      <th></th>\n",
       "      <th></th>\n",
       "      <th></th>\n",
       "      <th></th>\n",
       "      <th></th>\n",
       "      <th></th>\n",
       "      <th></th>\n",
       "      <th></th>\n",
       "      <th></th>\n",
       "      <th></th>\n",
       "    </tr>\n",
       "  </thead>\n",
       "  <tbody>\n",
       "    <tr>\n",
       "      <th>26.0</th>\n",
       "      <td>0.115385</td>\n",
       "      <td>0.038462</td>\n",
       "      <td>0.0</td>\n",
       "      <td>0.0</td>\n",
       "      <td>0.153846</td>\n",
       "      <td>0.0</td>\n",
       "      <td>0.0</td>\n",
       "      <td>0.115385</td>\n",
       "      <td>0.038462</td>\n",
       "      <td>0.0</td>\n",
       "      <td>...</td>\n",
       "      <td>0.0</td>\n",
       "      <td>0.0</td>\n",
       "      <td>0.0</td>\n",
       "      <td>0.0</td>\n",
       "      <td>0.0</td>\n",
       "      <td>0.0</td>\n",
       "      <td>0.0</td>\n",
       "      <td>0.0</td>\n",
       "      <td>0.0</td>\n",
       "      <td>0.0</td>\n",
       "    </tr>\n",
       "  </tbody>\n",
       "</table>\n",
       "<p>1 rows × 362 columns</p>\n",
       "</div>"
      ],
      "text/plain": [
       "          flex  actionscript-3  svn  sql   asp.net  algorithm  colors  \\\n",
       "Id                                                                      \n",
       "26.0  0.115385        0.038462  0.0  0.0  0.153846        0.0     0.0   \n",
       "\n",
       "            c#      .net  c++       ...         meteor  laravel  firebase  \\\n",
       "Id                                  ...                                     \n",
       "26.0  0.115385  0.038462  0.0       ...            0.0      0.0       0.0   \n",
       "\n",
       "      parse.com  typescript  docker  apache-spark  reactjs  spring-boot  \\\n",
       "Id                                                                        \n",
       "26.0        0.0         0.0     0.0           0.0      0.0          0.0   \n",
       "\n",
       "      ionic-framework  \n",
       "Id                     \n",
       "26.0              0.0  \n",
       "\n",
       "[1 rows x 362 columns]"
      ]
     },
     "execution_count": 44,
     "metadata": {},
     "output_type": "execute_result"
    }
   ],
   "source": [
    "user_questions_index = user_questions.div(user_questions.sum(axis=1), axis=0)\n",
    "user_questions_index.head(1)"
   ]
  },
  {
   "cell_type": "code",
   "execution_count": 22,
   "metadata": {},
   "outputs": [
    {
     "data": {
      "text/html": [
       "<div>\n",
       "<style scoped>\n",
       "    .dataframe tbody tr th:only-of-type {\n",
       "        vertical-align: middle;\n",
       "    }\n",
       "\n",
       "    .dataframe tbody tr th {\n",
       "        vertical-align: top;\n",
       "    }\n",
       "\n",
       "    .dataframe thead th {\n",
       "        text-align: right;\n",
       "    }\n",
       "</style>\n",
       "<table border=\"1\" class=\"dataframe\">\n",
       "  <thead>\n",
       "    <tr style=\"text-align: right;\">\n",
       "      <th></th>\n",
       "      <th>flex</th>\n",
       "      <th>actionscript-3</th>\n",
       "      <th>svn</th>\n",
       "      <th>sql</th>\n",
       "      <th>asp.net</th>\n",
       "      <th>algorithm</th>\n",
       "      <th>colors</th>\n",
       "      <th>c#</th>\n",
       "      <th>.net</th>\n",
       "      <th>c++</th>\n",
       "      <th>...</th>\n",
       "      <th>meteor</th>\n",
       "      <th>laravel</th>\n",
       "      <th>firebase</th>\n",
       "      <th>parse.com</th>\n",
       "      <th>typescript</th>\n",
       "      <th>docker</th>\n",
       "      <th>apache-spark</th>\n",
       "      <th>reactjs</th>\n",
       "      <th>spring-boot</th>\n",
       "      <th>ionic-framework</th>\n",
       "    </tr>\n",
       "    <tr>\n",
       "      <th>Id</th>\n",
       "      <th></th>\n",
       "      <th></th>\n",
       "      <th></th>\n",
       "      <th></th>\n",
       "      <th></th>\n",
       "      <th></th>\n",
       "      <th></th>\n",
       "      <th></th>\n",
       "      <th></th>\n",
       "      <th></th>\n",
       "      <th></th>\n",
       "      <th></th>\n",
       "      <th></th>\n",
       "      <th></th>\n",
       "      <th></th>\n",
       "      <th></th>\n",
       "      <th></th>\n",
       "      <th></th>\n",
       "      <th></th>\n",
       "      <th></th>\n",
       "      <th></th>\n",
       "    </tr>\n",
       "  </thead>\n",
       "  <tbody>\n",
       "    <tr>\n",
       "      <th>26.0</th>\n",
       "      <td>30.0</td>\n",
       "      <td>26.0</td>\n",
       "      <td>0.0</td>\n",
       "      <td>0.0</td>\n",
       "      <td>4.0</td>\n",
       "      <td>0.0</td>\n",
       "      <td>0.0</td>\n",
       "      <td>18.0</td>\n",
       "      <td>6.0</td>\n",
       "      <td>0.0</td>\n",
       "      <td>...</td>\n",
       "      <td>0.0</td>\n",
       "      <td>0.0</td>\n",
       "      <td>0.0</td>\n",
       "      <td>0.0</td>\n",
       "      <td>0.0</td>\n",
       "      <td>0.0</td>\n",
       "      <td>0.0</td>\n",
       "      <td>0.0</td>\n",
       "      <td>0.0</td>\n",
       "      <td>0.0</td>\n",
       "    </tr>\n",
       "  </tbody>\n",
       "</table>\n",
       "<p>1 rows × 362 columns</p>\n",
       "</div>"
      ],
      "text/plain": [
       "      flex  actionscript-3  svn  sql  asp.net  algorithm  colors    c#  .net  \\\n",
       "Id                                                                             \n",
       "26.0  30.0            26.0  0.0  0.0      4.0        0.0     0.0  18.0   6.0   \n",
       "\n",
       "      c++       ...         meteor  laravel  firebase  parse.com  typescript  \\\n",
       "Id              ...                                                            \n",
       "26.0  0.0       ...            0.0      0.0       0.0        0.0         0.0   \n",
       "\n",
       "      docker  apache-spark  reactjs  spring-boot  ionic-framework  \n",
       "Id                                                                 \n",
       "26.0     0.0           0.0      0.0          0.0              0.0  \n",
       "\n",
       "[1 rows x 362 columns]"
      ]
     },
     "execution_count": 22,
     "metadata": {},
     "output_type": "execute_result"
    }
   ],
   "source": [
    "user_scores.head(1)"
   ]
  },
  {
   "cell_type": "markdown",
   "metadata": {},
   "source": [
    "### Since we normalized the values, we expect the sum of al the rows to sum up to zero"
   ]
  },
  {
   "cell_type": "code",
   "execution_count": 45,
   "metadata": {},
   "outputs": [
    {
     "data": {
      "text/plain": [
       "Id\n",
       "5600344.0    1.0\n",
       "dtype: float64"
      ]
     },
     "execution_count": 45,
     "metadata": {},
     "output_type": "execute_result"
    }
   ],
   "source": [
    "user_questions_index.sample(1).sum(axis=1)"
   ]
  },
  {
   "cell_type": "code",
   "execution_count": 47,
   "metadata": {},
   "outputs": [],
   "source": [
    "user_information = user_questions_index.multiply(user_scores)"
   ]
  },
  {
   "cell_type": "code",
   "execution_count": 48,
   "metadata": {},
   "outputs": [
    {
     "data": {
      "text/html": [
       "<div>\n",
       "<style scoped>\n",
       "    .dataframe tbody tr th:only-of-type {\n",
       "        vertical-align: middle;\n",
       "    }\n",
       "\n",
       "    .dataframe tbody tr th {\n",
       "        vertical-align: top;\n",
       "    }\n",
       "\n",
       "    .dataframe thead th {\n",
       "        text-align: right;\n",
       "    }\n",
       "</style>\n",
       "<table border=\"1\" class=\"dataframe\">\n",
       "  <thead>\n",
       "    <tr style=\"text-align: right;\">\n",
       "      <th></th>\n",
       "      <th>.net</th>\n",
       "      <th>actionscript-3</th>\n",
       "      <th>angularjs</th>\n",
       "      <th>asp.net</th>\n",
       "      <th>c#</th>\n",
       "      <th>cookies</th>\n",
       "      <th>css</th>\n",
       "      <th>date</th>\n",
       "      <th>flash</th>\n",
       "      <th>flex</th>\n",
       "      <th>generics</th>\n",
       "      <th>html</th>\n",
       "      <th>javascript</th>\n",
       "      <th>session</th>\n",
       "      <th>sqlite</th>\n",
       "      <th>tsql</th>\n",
       "      <th>vb.net</th>\n",
       "      <th>web-services</th>\n",
       "      <th>xml</th>\n",
       "    </tr>\n",
       "    <tr>\n",
       "      <th>Id</th>\n",
       "      <th></th>\n",
       "      <th></th>\n",
       "      <th></th>\n",
       "      <th></th>\n",
       "      <th></th>\n",
       "      <th></th>\n",
       "      <th></th>\n",
       "      <th></th>\n",
       "      <th></th>\n",
       "      <th></th>\n",
       "      <th></th>\n",
       "      <th></th>\n",
       "      <th></th>\n",
       "      <th></th>\n",
       "      <th></th>\n",
       "      <th></th>\n",
       "      <th></th>\n",
       "      <th></th>\n",
       "      <th></th>\n",
       "    </tr>\n",
       "  </thead>\n",
       "  <tbody>\n",
       "    <tr>\n",
       "      <th>26.0</th>\n",
       "      <td>0.230769</td>\n",
       "      <td>1.0</td>\n",
       "      <td>0.076923</td>\n",
       "      <td>0.615385</td>\n",
       "      <td>2.076923</td>\n",
       "      <td>0.230769</td>\n",
       "      <td>0.384615</td>\n",
       "      <td>0.038462</td>\n",
       "      <td>0.038462</td>\n",
       "      <td>3.461538</td>\n",
       "      <td>0.076923</td>\n",
       "      <td>0.384615</td>\n",
       "      <td>0.153846</td>\n",
       "      <td>0.230769</td>\n",
       "      <td>0.038462</td>\n",
       "      <td>0.038462</td>\n",
       "      <td>0.038462</td>\n",
       "      <td>0.153846</td>\n",
       "      <td>0.153846</td>\n",
       "    </tr>\n",
       "  </tbody>\n",
       "</table>\n",
       "</div>"
      ],
      "text/plain": [
       "          .net  actionscript-3  angularjs   asp.net        c#   cookies  \\\n",
       "Id                                                                        \n",
       "26.0  0.230769             1.0   0.076923  0.615385  2.076923  0.230769   \n",
       "\n",
       "           css      date     flash      flex  generics      html  javascript  \\\n",
       "Id                                                                             \n",
       "26.0  0.384615  0.038462  0.038462  3.461538  0.076923  0.384615    0.153846   \n",
       "\n",
       "       session    sqlite      tsql    vb.net  web-services       xml  \n",
       "Id                                                                    \n",
       "26.0  0.230769  0.038462  0.038462  0.038462      0.153846  0.153846  "
      ]
     },
     "execution_count": 48,
     "metadata": {},
     "output_type": "execute_result"
    }
   ],
   "source": [
    "user_information.head(1).loc[:,['.net','actionscript-3', 'angularjs', 'asp.net', 'c#', 'cookies','css', 'date', 'flash', 'flex', 'generics','html', 'javascript', 'session', 'sqlite', 'tsql',  'vb.net', 'web-services', 'xml']]"
   ]
  },
  {
   "cell_type": "markdown",
   "metadata": {},
   "source": [
    "In this weighted average, the minimum \"Knowledge\" a person can have is if they asked one question which had a score of \"1\" to it (we count 0 as a 1 score wise)"
   ]
  },
  {
   "cell_type": "code",
   "execution_count": 49,
   "metadata": {},
   "outputs": [
    {
     "data": {
      "text/plain": [
       "0.9999999999999998"
      ]
     },
     "execution_count": 49,
     "metadata": {},
     "output_type": "execute_result"
    }
   ],
   "source": [
    "min(user_information.sum(axis=1))"
   ]
  },
  {
   "cell_type": "code",
   "execution_count": 51,
   "metadata": {},
   "outputs": [],
   "source": [
    "user_information.to_csv(\"../profiles/question_profiles.csv\",encoding=\"latin1\",index='Id')"
   ]
  }
 ],
 "metadata": {
  "kernelspec": {
   "display_name": "Python 3",
   "language": "python",
   "name": "python3"
  },
  "language_info": {
   "codemirror_mode": {
    "name": "ipython",
    "version": 3
   },
   "file_extension": ".py",
   "mimetype": "text/x-python",
   "name": "python",
   "nbconvert_exporter": "python",
   "pygments_lexer": "ipython3",
   "version": "3.6.4"
  }
 },
 "nbformat": 4,
 "nbformat_minor": 2
}
