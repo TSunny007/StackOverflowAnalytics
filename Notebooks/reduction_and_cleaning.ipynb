{
 "cells": [
  {
   "cell_type": "markdown",
   "metadata": {},
   "source": [
    "# Data Cleaning for StackSample"
   ]
  },
  {
   "cell_type": "code",
   "execution_count": 4,
   "metadata": {},
   "outputs": [
    {
     "name": "stdout",
     "output_type": "stream",
     "text": [
      "[nltk_data] Downloading package stopwords to /Users/tarun/nltk_data...\n",
      "[nltk_data]   Package stopwords is already up-to-date!\n",
      "Answers.csv\n",
      "Answers_Filtered.csv\n",
      "Questions.csv\n",
      "Questions_Filtered.csv\n",
      "Tags.csv\n",
      "Tags_Filtered.csv\n",
      "\n"
     ]
    }
   ],
   "source": [
    "import numpy as np # linear algebra\n",
    "import pandas as pd # data processing, CSV file I/O (e.g. pd.read_csv)\n",
    "import re # for removing HTML tags\n",
    "import collections\n",
    "import operator\n",
    "from subprocess import check_output\n",
    "# for plotting graphs\n",
    "import matplotlib.pyplot as plt\n",
    "import matplotlib.cm as cm\n",
    "# magic function\n",
    "%matplotlib inline\n",
    "from nltk.corpus import stopwords\n",
    "# for removing stop words\n",
    "import nltk\n",
    "nltk.download('stopwords')\n",
    "cachedStopWords = stopwords.words(\"english\")\n",
    "\n",
    "print(check_output([\"ls\", \"../input\"]).decode(\"utf8\"))\n",
    "\n",
    "# Any results you write to the current directory are saved as output."
   ]
  },
  {
   "cell_type": "markdown",
   "metadata": {},
   "source": [
    "## Filtering the Tags dataset to only show tags that have $ > 1\\%$ $max(Tags)$"
   ]
  },
  {
   "cell_type": "code",
   "execution_count": 2,
   "metadata": {},
   "outputs": [],
   "source": [
    "tags = pd.read_csv(\"../input/Tags.csv\", encoding='latin1')"
   ]
  },
  {
   "cell_type": "code",
   "execution_count": 8,
   "metadata": {},
   "outputs": [
    {
     "name": "stdout",
     "output_type": "stream",
     "text": [
      "[('javascript', 124155), ('java', 115212), ('c#', 101186), ('php', 98808), ('android', 90659), ('jquery', 78542), ('python', 64601), ('html', 58976), ('c++', 47591), ('ios', 47009)] .... [('android-asynctask', 1203)]\n"
     ]
    }
   ],
   "source": [
    "distinct_tags = collections.Counter(tags['Tag'])\n",
    "min_threshold = 1200\n",
    "\n",
    "# get all the pairs which have values greater than our threshold.\n",
    "filtered_tags = {x : distinct_tags[x] for x in distinct_tags if distinct_tags[x] >= min_threshold }\n",
    "\n",
    "sorted_x = sorted(filtered_tags.items(), key=operator.itemgetter(1))\n",
    "sorted_x = sorted_x[::-1] # reverse order\n",
    "\n",
    "print(sorted_x[:10],'....', sorted_x[-1:] )"
   ]
  },
  {
   "cell_type": "code",
   "execution_count": 23,
   "metadata": {},
   "outputs": [
    {
     "data": {
      "image/png": "[encoded data removed]",
      "text/plain": [
       "<matplotlib.figure.Figure at 0x1149a8d68>"
      ]
     },
     "metadata": {},
     "output_type": "display_data"
    }
   ],
   "source": [
    "plt.figure(figsize=(8,8))\n",
    "plt.ylabel(\"Frequency\")\n",
    "plt.title(\"Top 10 most common tags\")\n",
    "for i in range(10):\n",
    "        plt.plot(sorted_x[i][0], sorted_x[i][1],marker='o', linestyle='',ms=area[i]/900, label=sorted_x[i][0])\n",
    "plt.show()"
   ]
  },
  {
   "cell_type": "code",
   "execution_count": 6,
   "metadata": {},
   "outputs": [],
   "source": [
    "interested_tags = len(sorted_x)\n",
    "used_tags= set([])\n",
    "for i in range(0, interested_tags):\n",
    "    used_tags.add(sorted_x[i][0])"
   ]
  },
  {
   "cell_type": "code",
   "execution_count": 7,
   "metadata": {},
   "outputs": [
    {
     "data": {
      "text/html": [
       "<div>\n",
       "<style scoped>\n",
       "    .dataframe tbody tr th:only-of-type {\n",
       "        vertical-align: middle;\n",
       "    }\n",
       "\n",
       "    .dataframe tbody tr th {\n",
       "        vertical-align: top;\n",
       "    }\n",
       "\n",
       "    .dataframe thead th {\n",
       "        text-align: right;\n",
       "    }\n",
       "</style>\n",
       "<table border=\"1\" class=\"dataframe\">\n",
       "  <thead>\n",
       "    <tr style=\"text-align: right;\">\n",
       "      <th></th>\n",
       "      <th>Id</th>\n",
       "      <th>Tag</th>\n",
       "    </tr>\n",
       "  </thead>\n",
       "  <tbody>\n",
       "    <tr>\n",
       "      <th>0</th>\n",
       "      <td>80</td>\n",
       "      <td>flex</td>\n",
       "    </tr>\n",
       "    <tr>\n",
       "      <th>1</th>\n",
       "      <td>80</td>\n",
       "      <td>actionscript-3</td>\n",
       "    </tr>\n",
       "    <tr>\n",
       "      <th>3</th>\n",
       "      <td>90</td>\n",
       "      <td>svn</td>\n",
       "    </tr>\n",
       "    <tr>\n",
       "      <th>7</th>\n",
       "      <td>120</td>\n",
       "      <td>sql</td>\n",
       "    </tr>\n",
       "    <tr>\n",
       "      <th>8</th>\n",
       "      <td>120</td>\n",
       "      <td>asp.net</td>\n",
       "    </tr>\n",
       "    <tr>\n",
       "      <th>10</th>\n",
       "      <td>180</td>\n",
       "      <td>algorithm</td>\n",
       "    </tr>\n",
       "    <tr>\n",
       "      <th>12</th>\n",
       "      <td>180</td>\n",
       "      <td>colors</td>\n",
       "    </tr>\n",
       "    <tr>\n",
       "      <th>14</th>\n",
       "      <td>260</td>\n",
       "      <td>c#</td>\n",
       "    </tr>\n",
       "    <tr>\n",
       "      <th>15</th>\n",
       "      <td>260</td>\n",
       "      <td>.net</td>\n",
       "    </tr>\n",
       "    <tr>\n",
       "      <th>18</th>\n",
       "      <td>330</td>\n",
       "      <td>c++</td>\n",
       "    </tr>\n",
       "  </tbody>\n",
       "</table>\n",
       "</div>"
      ],
      "text/plain": [
       "     Id             Tag\n",
       "0    80            flex\n",
       "1    80  actionscript-3\n",
       "3    90             svn\n",
       "7   120             sql\n",
       "8   120         asp.net\n",
       "10  180       algorithm\n",
       "12  180          colors\n",
       "14  260              c#\n",
       "15  260            .net\n",
       "18  330             c++"
      ]
     },
     "execution_count": 7,
     "metadata": {},
     "output_type": "execute_result"
    }
   ],
   "source": [
    "# We retain only the tags which matter to us now\n",
    "tags = tags[tags['Tag'].isin(used_tags)]\n",
    "tags.head(10)"
   ]
  },
  {
   "cell_type": "code",
   "execution_count": 34,
   "metadata": {},
   "outputs": [],
   "source": [
    "tags.to_csv('../input/Tags_Filtered.csv', encoding='latin1',index=False)"
   ]
  },
  {
   "cell_type": "code",
   "execution_count": 9,
   "metadata": {},
   "outputs": [],
   "source": [
    "del interested_tags, sorted_x, used_tags # free up memory"
   ]
  },
  {
   "cell_type": "markdown",
   "metadata": {},
   "source": [
    "## HTML tags stripper"
   ]
  },
  {
   "cell_type": "code",
   "execution_count": 10,
   "metadata": {},
   "outputs": [],
   "source": [
    "# will strip all text according to this regular expression.\n",
    "TAG_RE = re.compile(r'<[^>]+>')\n",
    "\n",
    "def strip_tags(text):\n",
    "    return TAG_RE.sub('', text)"
   ]
  },
  {
   "cell_type": "markdown",
   "metadata": {},
   "source": [
    "### The Normalizer function will:\n",
    "* convert to lowercase\n",
    "* strip stop words and symbols\n",
    "* strip single characters\n",
    "* strip HTML characters\n",
    "* strip words that are all numbers"
   ]
  },
  {
   "cell_type": "code",
   "execution_count": 11,
   "metadata": {},
   "outputs": [],
   "source": [
    "def normalize(str):\n",
    "    return ' '.join([word for word in re.sub(r'[^\\w]', ' ', strip_tags(str)).lower().split() if word not in cachedStopWords and len(word) > 1 and not word.isdigit()])"
   ]
  },
  {
   "cell_type": "markdown",
   "metadata": {},
   "source": [
    "## Filtering the Quesitons"
   ]
  },
  {
   "cell_type": "code",
   "execution_count": 6,
   "metadata": {},
   "outputs": [],
   "source": [
    "questions = pd.read_csv('../input/Questions.csv', encoding='latin1')"
   ]
  },
  {
   "cell_type": "code",
   "execution_count": 15,
   "metadata": {},
   "outputs": [
    {
     "data": {
      "text/html": [
       "<div>\n",
       "<style scoped>\n",
       "    .dataframe tbody tr th:only-of-type {\n",
       "        vertical-align: middle;\n",
       "    }\n",
       "\n",
       "    .dataframe tbody tr th {\n",
       "        vertical-align: top;\n",
       "    }\n",
       "\n",
       "    .dataframe thead th {\n",
       "        text-align: right;\n",
       "    }\n",
       "</style>\n",
       "<table border=\"1\" class=\"dataframe\">\n",
       "  <thead>\n",
       "    <tr style=\"text-align: right;\">\n",
       "      <th></th>\n",
       "      <th>Id</th>\n",
       "      <th>Title</th>\n",
       "      <th>Body</th>\n",
       "    </tr>\n",
       "  </thead>\n",
       "  <tbody>\n",
       "    <tr>\n",
       "      <th>0</th>\n",
       "      <td>80</td>\n",
       "      <td>SQLStatement.execute() - multiple queries in o...</td>\n",
       "      <td>&lt;p&gt;I've written a database generation script i...</td>\n",
       "    </tr>\n",
       "    <tr>\n",
       "      <th>1</th>\n",
       "      <td>90</td>\n",
       "      <td>Good branching and merging tutorials for Torto...</td>\n",
       "      <td>&lt;p&gt;Are there any really good tutorials explain...</td>\n",
       "    </tr>\n",
       "    <tr>\n",
       "      <th>2</th>\n",
       "      <td>120</td>\n",
       "      <td>ASP.NET Site Maps</td>\n",
       "      <td>&lt;p&gt;Has anyone got experience creating &lt;strong&gt;...</td>\n",
       "    </tr>\n",
       "    <tr>\n",
       "      <th>3</th>\n",
       "      <td>180</td>\n",
       "      <td>Function for creating color wheels</td>\n",
       "      <td>&lt;p&gt;This is something I've pseudo-solved many t...</td>\n",
       "    </tr>\n",
       "    <tr>\n",
       "      <th>4</th>\n",
       "      <td>260</td>\n",
       "      <td>Adding scripting functionality to .NET applica...</td>\n",
       "      <td>&lt;p&gt;I have a little game written in C#. It uses...</td>\n",
       "    </tr>\n",
       "    <tr>\n",
       "      <th>5</th>\n",
       "      <td>330</td>\n",
       "      <td>Should I use nested classes in this case?</td>\n",
       "      <td>&lt;p&gt;I am working on a collection of classes use...</td>\n",
       "    </tr>\n",
       "    <tr>\n",
       "      <th>6</th>\n",
       "      <td>470</td>\n",
       "      <td>Homegrown consumption of web services</td>\n",
       "      <td>&lt;p&gt;I've been writing a few web services for a ...</td>\n",
       "    </tr>\n",
       "    <tr>\n",
       "      <th>7</th>\n",
       "      <td>580</td>\n",
       "      <td>Deploying SQL Server Databases from Test to Live</td>\n",
       "      <td>&lt;p&gt;I wonder how you guys manage deployment of ...</td>\n",
       "    </tr>\n",
       "    <tr>\n",
       "      <th>8</th>\n",
       "      <td>650</td>\n",
       "      <td>Automatically update version number</td>\n",
       "      <td>&lt;p&gt;I would like the version property of my app...</td>\n",
       "    </tr>\n",
       "    <tr>\n",
       "      <th>9</th>\n",
       "      <td>810</td>\n",
       "      <td>Visual Studio Setup Project - Per User Registr...</td>\n",
       "      <td>&lt;p&gt;I'm trying to maintain a Setup Project in &lt;...</td>\n",
       "    </tr>\n",
       "  </tbody>\n",
       "</table>\n",
       "</div>"
      ],
      "text/plain": [
       "    Id                                              Title  \\\n",
       "0   80  SQLStatement.execute() - multiple queries in o...   \n",
       "1   90  Good branching and merging tutorials for Torto...   \n",
       "2  120                                  ASP.NET Site Maps   \n",
       "3  180                 Function for creating color wheels   \n",
       "4  260  Adding scripting functionality to .NET applica...   \n",
       "5  330          Should I use nested classes in this case?   \n",
       "6  470              Homegrown consumption of web services   \n",
       "7  580   Deploying SQL Server Databases from Test to Live   \n",
       "8  650                Automatically update version number   \n",
       "9  810  Visual Studio Setup Project - Per User Registr...   \n",
       "\n",
       "                                                Body  \n",
       "0  <p>I've written a database generation script i...  \n",
       "1  <p>Are there any really good tutorials explain...  \n",
       "2  <p>Has anyone got experience creating <strong>...  \n",
       "3  <p>This is something I've pseudo-solved many t...  \n",
       "4  <p>I have a little game written in C#. It uses...  \n",
       "5  <p>I am working on a collection of classes use...  \n",
       "6  <p>I've been writing a few web services for a ...  \n",
       "7  <p>I wonder how you guys manage deployment of ...  \n",
       "8  <p>I would like the version property of my app...  \n",
       "9  <p>I'm trying to maintain a Setup Project in <...  "
      ]
     },
     "execution_count": 15,
     "metadata": {},
     "output_type": "execute_result"
    }
   ],
   "source": [
    "questions = questions[questions['Id'].isin(tags['Id'])]\n",
    "questions.head(10).loc[:,['Id','Title','Body']]"
   ]
  },
  {
   "cell_type": "code",
   "execution_count": 16,
   "metadata": {},
   "outputs": [],
   "source": [
    "# Normalize question body and title\n",
    "for index, row in questions.iterrows():\n",
    "    questions.at[index, 'Body']= normalize(row[6])\n",
    "    questions.at[index, 'Title']= normalize(row[5])"
   ]
  },
  {
   "cell_type": "code",
   "execution_count": 17,
   "metadata": {},
   "outputs": [
    {
     "data": {
      "text/html": [
       "<div>\n",
       "<style scoped>\n",
       "    .dataframe tbody tr th:only-of-type {\n",
       "        vertical-align: middle;\n",
       "    }\n",
       "\n",
       "    .dataframe tbody tr th {\n",
       "        vertical-align: top;\n",
       "    }\n",
       "\n",
       "    .dataframe thead th {\n",
       "        text-align: right;\n",
       "    }\n",
       "</style>\n",
       "<table border=\"1\" class=\"dataframe\">\n",
       "  <thead>\n",
       "    <tr style=\"text-align: right;\">\n",
       "      <th></th>\n",
       "      <th>Id</th>\n",
       "      <th>Title</th>\n",
       "      <th>Body</th>\n",
       "    </tr>\n",
       "  </thead>\n",
       "  <tbody>\n",
       "    <tr>\n",
       "      <th>0</th>\n",
       "      <td>80</td>\n",
       "      <td>sqlstatement execute multiple queries one stat...</td>\n",
       "      <td>written database generation script sql want ex...</td>\n",
       "    </tr>\n",
       "    <tr>\n",
       "      <th>1</th>\n",
       "      <td>90</td>\n",
       "      <td>good branching merging tutorials tortoisesvn</td>\n",
       "      <td>really good tutorials explaining branching mer...</td>\n",
       "    </tr>\n",
       "    <tr>\n",
       "      <th>2</th>\n",
       "      <td>120</td>\n",
       "      <td>asp net site maps</td>\n",
       "      <td>anyone got experience creating sql based asp n...</td>\n",
       "    </tr>\n",
       "    <tr>\n",
       "      <th>3</th>\n",
       "      <td>180</td>\n",
       "      <td>function creating color wheels</td>\n",
       "      <td>something pseudo solved many times never quite...</td>\n",
       "    </tr>\n",
       "    <tr>\n",
       "      <th>4</th>\n",
       "      <td>260</td>\n",
       "      <td>adding scripting functionality net applications</td>\n",
       "      <td>little game written uses database back end tra...</td>\n",
       "    </tr>\n",
       "    <tr>\n",
       "      <th>5</th>\n",
       "      <td>330</td>\n",
       "      <td>use nested classes case</td>\n",
       "      <td>working collection classes used video playback...</td>\n",
       "    </tr>\n",
       "    <tr>\n",
       "      <th>6</th>\n",
       "      <td>470</td>\n",
       "      <td>homegrown consumption web services</td>\n",
       "      <td>writing web services net app ready consume see...</td>\n",
       "    </tr>\n",
       "    <tr>\n",
       "      <th>7</th>\n",
       "      <td>580</td>\n",
       "      <td>deploying sql server databases test live</td>\n",
       "      <td>wonder guys manage deployment database sql ser...</td>\n",
       "    </tr>\n",
       "    <tr>\n",
       "      <th>8</th>\n",
       "      <td>650</td>\n",
       "      <td>automatically update version number</td>\n",
       "      <td>would like version property application increm...</td>\n",
       "    </tr>\n",
       "    <tr>\n",
       "      <th>9</th>\n",
       "      <td>810</td>\n",
       "      <td>visual studio setup project per user registry ...</td>\n",
       "      <td>trying maintain setup project visual studio ye...</td>\n",
       "    </tr>\n",
       "  </tbody>\n",
       "</table>\n",
       "</div>"
      ],
      "text/plain": [
       "    Id                                              Title  \\\n",
       "0   80  sqlstatement execute multiple queries one stat...   \n",
       "1   90       good branching merging tutorials tortoisesvn   \n",
       "2  120                                  asp net site maps   \n",
       "3  180                     function creating color wheels   \n",
       "4  260    adding scripting functionality net applications   \n",
       "5  330                            use nested classes case   \n",
       "6  470                 homegrown consumption web services   \n",
       "7  580           deploying sql server databases test live   \n",
       "8  650                automatically update version number   \n",
       "9  810  visual studio setup project per user registry ...   \n",
       "\n",
       "                                                Body  \n",
       "0  written database generation script sql want ex...  \n",
       "1  really good tutorials explaining branching mer...  \n",
       "2  anyone got experience creating sql based asp n...  \n",
       "3  something pseudo solved many times never quite...  \n",
       "4  little game written uses database back end tra...  \n",
       "5  working collection classes used video playback...  \n",
       "6  writing web services net app ready consume see...  \n",
       "7  wonder guys manage deployment database sql ser...  \n",
       "8  would like version property application increm...  \n",
       "9  trying maintain setup project visual studio ye...  "
      ]
     },
     "execution_count": 17,
     "metadata": {},
     "output_type": "execute_result"
    }
   ],
   "source": [
    "questions.head(10).loc[:,['Id','Title','Body']]"
   ]
  },
  {
   "cell_type": "code",
   "execution_count": 19,
   "metadata": {},
   "outputs": [],
   "source": [
    "questions.to_csv('../input/Questions_Filtered.csv', encoding='latin1', index=False)"
   ]
  },
  {
   "cell_type": "code",
   "execution_count": 19,
   "metadata": {},
   "outputs": [],
   "source": [
    "del questions # free up memory"
   ]
  },
  {
   "cell_type": "markdown",
   "metadata": {},
   "source": [
    "## Filtering the Answers"
   ]
  },
  {
   "cell_type": "code",
   "execution_count": 7,
   "metadata": {},
   "outputs": [],
   "source": [
    "answers = pd.read_csv('../input/Answers.csv', encoding='latin1')"
   ]
  },
  {
   "cell_type": "code",
   "execution_count": 21,
   "metadata": {},
   "outputs": [
    {
     "data": {
      "text/html": [
       "<div>\n",
       "<style scoped>\n",
       "    .dataframe tbody tr th:only-of-type {\n",
       "        vertical-align: middle;\n",
       "    }\n",
       "\n",
       "    .dataframe tbody tr th {\n",
       "        vertical-align: top;\n",
       "    }\n",
       "\n",
       "    .dataframe thead th {\n",
       "        text-align: right;\n",
       "    }\n",
       "</style>\n",
       "<table border=\"1\" class=\"dataframe\">\n",
       "  <thead>\n",
       "    <tr style=\"text-align: right;\">\n",
       "      <th></th>\n",
       "      <th>Id</th>\n",
       "      <th>Body</th>\n",
       "    </tr>\n",
       "  </thead>\n",
       "  <tbody>\n",
       "    <tr>\n",
       "      <th>0</th>\n",
       "      <td>92</td>\n",
       "      <td>&lt;p&gt;&lt;a href=\"http://svnbook.red-bean.com/\"&gt;Vers...</td>\n",
       "    </tr>\n",
       "    <tr>\n",
       "      <th>1</th>\n",
       "      <td>124</td>\n",
       "      <td>&lt;p&gt;I wound up using this. It is a kind of a ha...</td>\n",
       "    </tr>\n",
       "    <tr>\n",
       "      <th>2</th>\n",
       "      <td>199</td>\n",
       "      <td>&lt;p&gt;I've read somewhere the human eye can't dis...</td>\n",
       "    </tr>\n",
       "    <tr>\n",
       "      <th>3</th>\n",
       "      <td>269</td>\n",
       "      <td>&lt;p&gt;Yes, I thought about that, but I soon figur...</td>\n",
       "    </tr>\n",
       "    <tr>\n",
       "      <th>4</th>\n",
       "      <td>307</td>\n",
       "      <td>&lt;p&gt;&lt;a href=\"http://www.codeproject.com/Article...</td>\n",
       "    </tr>\n",
       "    <tr>\n",
       "      <th>5</th>\n",
       "      <td>332</td>\n",
       "      <td>&lt;p&gt;I would be a bit reluctant to use nested cl...</td>\n",
       "    </tr>\n",
       "    <tr>\n",
       "      <th>6</th>\n",
       "      <td>344</td>\n",
       "      <td>&lt;p&gt;You might be able to use IronRuby for that....</td>\n",
       "    </tr>\n",
       "    <tr>\n",
       "      <th>7</th>\n",
       "      <td>359</td>\n",
       "      <td>&lt;P&gt;You could use any of the DLR languages, whi...</td>\n",
       "    </tr>\n",
       "    <tr>\n",
       "      <th>8</th>\n",
       "      <td>473</td>\n",
       "      <td>&lt;p&gt;No, what you're doing is fine. Don't let th...</td>\n",
       "    </tr>\n",
       "    <tr>\n",
       "      <th>9</th>\n",
       "      <td>529</td>\n",
       "      <td>&lt;p&gt;Isn't it also a factor which order you set ...</td>\n",
       "    </tr>\n",
       "  </tbody>\n",
       "</table>\n",
       "</div>"
      ],
      "text/plain": [
       "    Id                                               Body\n",
       "0   92  <p><a href=\"http://svnbook.red-bean.com/\">Vers...\n",
       "1  124  <p>I wound up using this. It is a kind of a ha...\n",
       "2  199  <p>I've read somewhere the human eye can't dis...\n",
       "3  269  <p>Yes, I thought about that, but I soon figur...\n",
       "4  307  <p><a href=\"http://www.codeproject.com/Article...\n",
       "5  332  <p>I would be a bit reluctant to use nested cl...\n",
       "6  344  <p>You might be able to use IronRuby for that....\n",
       "7  359  <P>You could use any of the DLR languages, whi...\n",
       "8  473  <p>No, what you're doing is fine. Don't let th...\n",
       "9  529  <p>Isn't it also a factor which order you set ..."
      ]
     },
     "execution_count": 21,
     "metadata": {},
     "output_type": "execute_result"
    }
   ],
   "source": [
    "answers = answers[answers['ParentId'].isin(tags['Id'])]\n",
    "answers.head(10).loc[:,['Id','Body']]"
   ]
  },
  {
   "cell_type": "code",
   "execution_count": 22,
   "metadata": {},
   "outputs": [],
   "source": [
    "for index, row in answers.iterrows():\n",
    "    answers.at[index, 'Body']= normalize(row[5])"
   ]
  },
  {
   "cell_type": "code",
   "execution_count": 23,
   "metadata": {},
   "outputs": [
    {
     "data": {
      "text/html": [
       "<div>\n",
       "<style scoped>\n",
       "    .dataframe tbody tr th:only-of-type {\n",
       "        vertical-align: middle;\n",
       "    }\n",
       "\n",
       "    .dataframe tbody tr th {\n",
       "        vertical-align: top;\n",
       "    }\n",
       "\n",
       "    .dataframe thead th {\n",
       "        text-align: right;\n",
       "    }\n",
       "</style>\n",
       "<table border=\"1\" class=\"dataframe\">\n",
       "  <thead>\n",
       "    <tr style=\"text-align: right;\">\n",
       "      <th></th>\n",
       "      <th>Id</th>\n",
       "      <th>Body</th>\n",
       "    </tr>\n",
       "  </thead>\n",
       "  <tbody>\n",
       "    <tr>\n",
       "      <th>0</th>\n",
       "      <td>92</td>\n",
       "      <td>version control subversion good resource sourc...</td>\n",
       "    </tr>\n",
       "    <tr>\n",
       "      <th>1</th>\n",
       "      <td>124</td>\n",
       "      <td>wound using kind hack actually works pretty we...</td>\n",
       "    </tr>\n",
       "    <tr>\n",
       "      <th>2</th>\n",
       "      <td>199</td>\n",
       "      <td>read somewhere human eye distinguish less valu...</td>\n",
       "    </tr>\n",
       "    <tr>\n",
       "      <th>3</th>\n",
       "      <td>269</td>\n",
       "      <td>yes thought soon figured another domain specif...</td>\n",
       "    </tr>\n",
       "    <tr>\n",
       "      <th>4</th>\n",
       "      <td>307</td>\n",
       "      <td>oleg shilo script solution code project really...</td>\n",
       "    </tr>\n",
       "    <tr>\n",
       "      <th>5</th>\n",
       "      <td>332</td>\n",
       "      <td>would bit reluctant use nested classes created...</td>\n",
       "    </tr>\n",
       "    <tr>\n",
       "      <th>6</th>\n",
       "      <td>344</td>\n",
       "      <td>might able use ironruby otherwise suggest dire...</td>\n",
       "    </tr>\n",
       "    <tr>\n",
       "      <th>7</th>\n",
       "      <td>359</td>\n",
       "      <td>could use dlr languages provide way really eas...</td>\n",
       "    </tr>\n",
       "    <tr>\n",
       "      <th>8</th>\n",
       "      <td>473</td>\n",
       "      <td>fine let people confuse written web services n...</td>\n",
       "    </tr>\n",
       "    <tr>\n",
       "      <th>9</th>\n",
       "      <td>529</td>\n",
       "      <td>also factor order set colors like use dillie o...</td>\n",
       "    </tr>\n",
       "  </tbody>\n",
       "</table>\n",
       "</div>"
      ],
      "text/plain": [
       "    Id                                               Body\n",
       "0   92  version control subversion good resource sourc...\n",
       "1  124  wound using kind hack actually works pretty we...\n",
       "2  199  read somewhere human eye distinguish less valu...\n",
       "3  269  yes thought soon figured another domain specif...\n",
       "4  307  oleg shilo script solution code project really...\n",
       "5  332  would bit reluctant use nested classes created...\n",
       "6  344  might able use ironruby otherwise suggest dire...\n",
       "7  359  could use dlr languages provide way really eas...\n",
       "8  473  fine let people confuse written web services n...\n",
       "9  529  also factor order set colors like use dillie o..."
      ]
     },
     "execution_count": 23,
     "metadata": {},
     "output_type": "execute_result"
    }
   ],
   "source": [
    "answers.head(10).loc[:,['Id','Body']]"
   ]
  },
  {
   "cell_type": "code",
   "execution_count": 22,
   "metadata": {},
   "outputs": [],
   "source": [
    "answers.to_csv('../input/Answers_Filtered.csv', encoding='latin1', index=False)"
   ]
  },
  {
   "cell_type": "markdown",
   "metadata": {},
   "source": [
    "## Manual dimensional compression"
   ]
  },
  {
   "cell_type": "code",
   "execution_count": 32,
   "metadata": {},
   "outputs": [],
   "source": [
    "tags['Tag'].replace(['sql-server-2005','sql-server-2008'], 'sql-server',inplace=True)\n",
    "tags['Tag'].replace('c#-4.0', 'c#',inplace=True)\n",
    "tags['Tag'].replace(['visual-c++', 'c++11'], 'c++',inplace=True)\n",
    "tags['Tag'].replace(['python-3.x', 'python-2.7'], 'python',inplace=True)\n",
    "tags['Tag'].replace(['visual-studio-2008','visual-studio-2010','visual-studio-2012','visual-studio-2013','visual-studio-2015'], 'visual-studio',inplace=True)\n",
    "tags['Tag'].replace(['ruby-on-rails-3', 'ruby-on-rails-4'], 'ruby-on-rails',inplace=True)\n",
    "tags['Tag'].replace(['angular2', 'angularjs-directive'], 'angularjs',inplace=True)\n",
    "tags['Tag'].replace(['memory-leaks', 'memory-management'], 'memory',inplace=True)\n",
    "tags['Tag'].replace('selenium-webdriver', 'selenium',inplace=True)\n",
    "tags['Tag'].replace('javascript-events', 'javascript',inplace=True)\n",
    "tags['Tag'].replace(['ios5', 'ios7'], 'ios',inplace=True)\n",
    "tags['Tag'].replace('opengl-es', 'open-gl',inplace=True)\n",
    "tags['Tag'].replace(['jquery-ui', 'jquery-plugins', 'jquery-mobile'], 'jquery',inplace=True)\n",
    "tags['Tag'].replace('nhibernate', 'hibernate',inplace=True)\n",
    "tags['Tag'].replace('amazon-s3', 'amazon-web-services',inplace=True)\n",
    "tags['Tag'].replace(['asp.net-mvc', 'asp.net-mvc-3', 'asp.net-mvc-4', 'asp.net-web-api'], 'asp.net',inplace=True)\n",
    "tags['Tag'].replace(['windows-phone-7', 'windows-phone-8'], 'windows-phone',inplace=True)\n",
    "tags['Tag'].replace('twitter-bootstrap-3', 'twitter-bootstrap',inplace=True)\n",
    "tags['Tag'].replace(['laravel-4', 'laravel-5'], 'laravel',inplace=True)\n",
    "tags['Tag'].replace('django-models','django',inplace=True)\n",
    "tags['Tag'].replace('jsf-2','jsf',inplace=True)\n",
    "tags['Tag'].replace('css-3','css',inplace=True)\n",
    "tags['Tag'].replace('html5','html',inplace=True)\n",
    "tags['Tag'].replace('google-chrome-extension','google-chrome',inplace=True)\n",
    "tags['Tag'].replace(['android-activity','android-layout','android-intent','android-asynctask', 'android-listview', 'android-fragments', 'android-studio'], 'android', inplace=True)\n",
    "tags['Tag'].replace('oracle1lq','oracle',inplace=True)\n",
    "tags['Tag'].replace('google-maps-api-3','google-maps',inplace=True)\n",
    "tags['Tag'].replace('foreach', 'for-loop',inplace=True)"
   ]
  },
  {
   "cell_type": "code",
   "execution_count": 33,
   "metadata": {},
   "outputs": [
    {
     "data": {
      "text/plain": [
       "362"
      ]
     },
     "execution_count": 33,
     "metadata": {},
     "output_type": "execute_result"
    }
   ],
   "source": [
    "len(tags['Tag'].unique())"
   ]
  }
 ],
 "metadata": {
  "kernelspec": {
   "display_name": "Python 3",
   "language": "python",
   "name": "python3"
  },
  "language_info": {
   "codemirror_mode": {
    "name": "ipython",
    "version": 3
   },
   "file_extension": ".py",
   "mimetype": "text/x-python",
   "name": "python",
   "nbconvert_exporter": "python",
   "pygments_lexer": "ipython3",
   "version": "3.6.4"
  }
 },
 "nbformat": 4,
 "nbformat_minor": 2
}
